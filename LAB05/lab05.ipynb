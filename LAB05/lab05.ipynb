{
 "cells": [
  {
   "cell_type": "markdown",
   "metadata": {},
   "source": [
    "# Лабораторная работа по Python\n",
    "## Базовые типы данных и управляющие конструкции\n",
    "\n",
    "**Цель работы:** Изучить основные типы данных в Python и управляющие конструкции.\n",
    "\n",
    "**Студент:** ___Лупач Денис_____________  \n",
    "**Дата:** ___23.10.2025_____________\n",
    "\n",
    "## Содержание\n",
    "1. [Базовые типы данных (числа)](#1)\n",
    "2. [Базовые типы данных (строки)](#2)\n",
    "3. [Базовые типы данных (массивы)](#3)\n",
    "4. [Базовые типы данных (кортежи)](#4)\n",
    "5. [Базовые типы данных (словари)](#5)\n",
    "6. [Базовые типы данных (множества)](#6)\n",
    "7. [Условные операторы](#7)\n",
    "8. [Циклы](#8)\n",
    "9. [Comprehensions](#9)"
   ]
  },
  {
   "cell_type": "markdown",
   "metadata": {},
   "source": [
    "<a id=\"1\"></a>\n",
    "## 1. Базовые типы данных (числа)"
   ]
  },
  {
   "cell_type": "markdown",
   "metadata": {},
   "source": [
    "### 1.1 Целые числа (int)\n",
    "\n",
    "**Целые числа** - числа без дробной части. Могут быть положительными или отрицательными."
   ]
  },
  {
   "cell_type": "code",
   "execution_count": null,
   "metadata": {},
   "outputs": [],
   "source": [
    "# Создание целых чисел\n",
    "a = 10\n",
    "b = -5\n",
    "c = 0\n",
    "\n",
    "print(f\"a = {a}, тип: {type(a)}\")\n",
    "print(f\"b = {b}, тип: {type(b)}\")\n",
    "print(f\"c = {c}, тип: {type(c)}\")"
   ]
  },
  {
   "cell_type": "markdown",
   "metadata": {},
   "source": [
    "### 1.2 Вещественные числа (float)\n",
    "\n",
    "**Вещественные числа** - числа с плавающей точкой. Используются для представления дробных значений."
   ]
  },
  {
   "cell_type": "code",
   "execution_count": null,
   "metadata": {},
   "outputs": [],
   "source": [
    "# Создание вещественных чисел\n",
    "d = 3.14\n",
    "e = -2.5\n",
    "f = 1.0e-3  # Научная нотация: 0.001\n",
    "\n",
    "print(f\"d = {d}, тип: {type(d)}\")\n",
    "print(f\"e = {e}, тип: {type(e)}\")\n",
    "print(f\"f = {f}, тип: {type(f)}\")"
   ]
  },
  {
   "cell_type": "markdown",
   "metadata": {},
   "source": [
    "### 1.3 Арифметические операции\n",
    "\n",
    "| Операция | Описание | Пример |\n",
    "|----------|----------|---------|\n",
    "| `+` | Сложение | `5 + 3 = 8` |\n",
    "| `-` | Вычитание | `5 - 3 = 2` |\n",
    "| `*` | Умножение | `5 * 3 = 15` |\n",
    "| `/` | Деление | `5 / 2 = 2.5` |\n",
    "| `//` | Целочисленное деление | `5 // 2 = 2` |\n",
    "| `%` | Остаток от деления | `5 % 2 = 1` |\n",
    "| `**` | Возведение в степень | `5 ** 2 = 25` |"
   ]
  },
  {
   "cell_type": "code",
   "execution_count": null,
   "metadata": {},
   "outputs": [],
   "source": [
    "# Демонстрация арифметических операций\n",
    "x, y = 15, 4\n",
    "\n",
    "print(f\"{x} + {y} = {x + y}\")\n",
    "print(f\"{x} - {y} = {x - y}\")\n",
    "print(f\"{x} * {y} = {x * y}\")\n",
    "print(f\"{x} / {y} = {x / y}\")\n",
    "print(f\"{x} // {y} = {x // y}\")\n",
    "print(f\"{x} % {y} = {x % y}\")\n",
    "print(f\"{x} ** {y} = {x ** y}\")"
   ]
  },
  {
   "cell_type": "markdown",
   "metadata": {},
   "source": [
    "### 1.4 Математические функции\n",
    "\n",
    "В Python есть встроенные математические функции и модуль `math` для сложных операций."
   ]
  },
  {
   "cell_type": "code",
   "execution_count": null,
   "metadata": {},
   "outputs": [],
   "source": [
    "# Использование математических функций\n",
    "import math\n",
    "\n",
    "num = -10\n",
    "value = 3.14159\n",
    "\n",
    "print(f\"abs({num}) = {abs(num)}\")\n",
    "print(f\"round({value}, 2) = {round(value, 2)}\")\n",
    "print(f\"math.sqrt(16) = {math.sqrt(16)}\")\n",
    "print(f\"math.pow(2, 3) = {math.pow(2, 3)}\")\n",
    "print(f\"math.floor(3.7) = {math.floor(3.7)}\")\n",
    "print(f\"math.ceil(3.2) = {math.ceil(3.2)}\")"
   ]
  },
  {
   "cell_type": "markdown",
   "metadata": {},
   "source": [
    "### Задачи для практики (числа)"
   ]
  },
  {
   "cell_type": "markdown",
   "metadata": {},
   "source": [
    "**Задача 1.1:** Вычислите площадь круга с радиусом 7. Используйте формулу S = πr²"
   ]
  },
  {
   "cell_type": "code",
   "execution_count": 1,
   "metadata": {},
   "outputs": [
    {
     "name": "stdout",
     "output_type": "stream",
     "text": [
      "Площадь круга равна:153.93804002589985The history saving thread hit an unexpected error (OperationalError('attempt to write a readonly database')).History will not be written to the database.\n",
      "\n"
     ]
    }
   ],
   "source": [
    "import math\n",
    "\n",
    "r = 7\n",
    "S = math.pi * r**2\n",
    "print(f\"Площадь круга равна:{S}\")"
   ]
  },
  {
   "cell_type": "markdown",
   "metadata": {},
   "source": [
    "**Задача 1.2:** Создайте программу для перевода температуры из градусов Цельсия в Фаренгейты"
   ]
  },
  {
   "cell_type": "code",
   "execution_count": 2,
   "metadata": {},
   "outputs": [
    {
     "name": "stdin",
     "output_type": "stream",
     "text": [
      "Введите температуру в градусах Цельсия:  52\n"
     ]
    },
    {
     "name": "stdout",
     "output_type": "stream",
     "text": [
      "52.0°C = 125.60000000000001°F\n"
     ]
    }
   ],
   "source": [
    "celsius = float(input(\"Введите температуру в градусах Цельсия: \"))\n",
    "fahrenheit = (celsius * 1.8) + 32\n",
    "\n",
    "print(f\"{celsius}°C = {fahrenheit}°F\")"
   ]
  },
  {
   "cell_type": "markdown",
   "metadata": {},
   "source": [
    "**Задача 1.3:** Вычислите гипотенузу прямоугольного треугольника с катетами 6 и 8"
   ]
  },
  {
   "cell_type": "code",
   "execution_count": 4,
   "metadata": {},
   "outputs": [
    {
     "name": "stdout",
     "output_type": "stream",
     "text": [
      "Гипотенуза с равна: 10.0\n"
     ]
    }
   ],
   "source": [
    "import math\n",
    "a = 6\n",
    "b = 8\n",
    "c = math.sqrt(a**2 + b**2)\n",
    "print(f\"Гипотенуза с равна: {c}\")"
   ]
  },
  {
   "cell_type": "markdown",
   "metadata": {},
   "source": [
    "**Задача 1.4:** Напишите программу, которая вычисляет сумму цифр трехзначного числа"
   ]
  },
  {
   "cell_type": "code",
   "execution_count": 13,
   "metadata": {},
   "outputs": [
    {
     "name": "stdin",
     "output_type": "stream",
     "text": [
      "Введите число: 356\n"
     ]
    },
    {
     "name": "stdout",
     "output_type": "stream",
     "text": [
      "Сумма цифр трехзначного числа 356 равна: 14\n"
     ]
    }
   ],
   "source": [
    "num = int(input(\"Введите число:\"))\n",
    "sum = 0\n",
    "d = num\n",
    "if 100 <= num <= 999:\n",
    "    while num > 0:\n",
    "        z = num % 10\n",
    "        sum+=z\n",
    "        num //= 10\n",
    "    print(f\"Сумма цифр трехзначного числа {d} равна: {sum}\")\n",
    "else:\n",
    "    print(\"Ошибка! Введите трехзначное число.\")\n"
   ]
  },
  {
   "cell_type": "markdown",
   "metadata": {},
   "source": [
    "**Задача 1.5:** Создайте программу для вычисления среднего арифметического трех чисел"
   ]
  },
  {
   "cell_type": "code",
   "execution_count": 17,
   "metadata": {},
   "outputs": [
    {
     "name": "stdin",
     "output_type": "stream",
     "text": [
      "Введите первое число: 43\n",
      "Введите второе число: 42\n",
      "Введите третье число: 2\n"
     ]
    },
    {
     "name": "stdout",
     "output_type": "stream",
     "text": [
      "Среднее арифметическое:29.0\n"
     ]
    }
   ],
   "source": [
    "num1 = float(input(\"Введите первое число:\"))\n",
    "num2 = float(input(\"Введите второе число:\"))\n",
    "num3 = float(input(\"Введите третье число:\"))\n",
    "average = (num1 + num2 + num3) / 3\n",
    "print(f\"Среднее арифметическое:{average}\")"
   ]
  },
  {
   "cell_type": "markdown",
   "metadata": {},
   "source": [
    "<a id=\"2\"></a>\n",
    "## 2. Базовые типы данных (строки)"
   ]
  },
  {
   "cell_type": "markdown",
   "metadata": {},
   "source": [
    "### 2.1 Создание строк\n",
    "\n",
    "Строки можно создавать с помощью одинарных, двойных или тройных кавычек."
   ]
  },
  {
   "cell_type": "code",
   "execution_count": null,
   "metadata": {},
   "outputs": [],
   "source": [
    "# Разные способы создания строк\n",
    "str1 = \"Hello, World!\"\n",
    "str2 = 'Python programming'\n",
    "str3 = \"\"\"Многострочная\n",
    "строка с переносом\"\"\"\n",
    "str4 = '''Еще один способ\n",
    "создания строк'''\n",
    "\n",
    "print(\"str1:\", str1)\n",
    "print(\"str2:\", str2)\n",
    "print(\"str3:\", str3)\n",
    "print(\"str4:\", str4)"
   ]
  },
  {
   "cell_type": "markdown",
   "metadata": {},
   "source": [
    "### 2.2 Базовые операции со строками\n",
    "\n",
    "| Операция | Описание | Пример |\n",
    "|----------|----------|---------|\n",
    "| `+` | Конкатенация | `\"Hello\" + \"World\" = \"HelloWorld\"` |\n",
    "| `*` | Повторение | `\"Hi\" * 3 = \"HiHiHi\"` |\n",
    "| `[]` | Индексация | `\"Python\"[0] = \"P\"` |\n",
    "| `[start:end]` | Срез | `\"Python\"[1:4] = \"yth\"` |\n",
    "| `len()` | Длина строки | `len(\"Hello\") = 5` |"
   ]
  },
  {
   "cell_type": "code",
   "execution_count": null,
   "metadata": {},
   "outputs": [],
   "source": [
    "# Демонстрация базовых операций\n",
    "s1 = \"Hello\"\n",
    "s2 = \"Python\"\n",
    "\n",
    "print(f\"Конкатенация: '{s1}' + ' ' + '{s2}' = '{s1 + ' ' + s2}'\")\n",
    "print(f\"Повторение: '{s1}' * 3 = '{s1 * 3}'\")\n",
    "print(f\"Длина строки: len('{s1}') = {len(s1)}\")\n",
    "print(f\"Индексация: '{s1}'[0] = '{s1[0]}'\")\n",
    "print(f\"Отрицательная индексация: '{s1}'[-1] = '{s1[-1]}'\")\n",
    "print(f\"Срез: '{s1}'[1:4] = '{s1[1:4]}'\")"
   ]
  },
  {
   "cell_type": "markdown",
   "metadata": {},
   "source": [
    "### 2.3 Расширенная индексация и срезы\n",
    "\n",
    "Строки поддерживают сложные операции срезами с шагом и пропущенными границами."
   ]
  },
  {
   "cell_type": "code",
   "execution_count": null,
   "metadata": {},
   "outputs": [],
   "source": [
    "# Расширенные операции со срезами\n",
    "text = \"Python Programming\"\n",
    "\n",
    "print(f\"Исходная строка: '{text}'\")\n",
    "print(f\"Срез с шагом 2: '{text[::2]}'\")\n",
    "print(f\"Срез с шагом -1 (реверс): '{text[::-1]}'\")\n",
    "print(f\"Срез от начала до 6: '{text[:6]}'\")\n",
    "print(f\"Срез с 7 до конца: '{text[7:]}'\")\n",
    "print(f\"Срез с шагом 3: '{text[::3]}'\")\n",
    "print(f\"Отрицательные индексы в срезах: '{text[-5:-2]}'\")"
   ]
  },
  {
   "cell_type": "markdown",
   "metadata": {},
   "source": [
    "### 2.4 Неизменяемость строк\n",
    "\n",
    "Строки являются неизменяемыми объектами. Попытка изменить символ строки вызовет ошибку."
   ]
  },
  {
   "cell_type": "code",
   "execution_count": null,
   "metadata": {},
   "outputs": [],
   "source": [
    "# Демонстрация неизменяемости строк\n",
    "s = \"Hello\"\n",
    "print(f\"Исходная строка: '{s}'\")\n",
    "\n",
    "# Попытка изменить строку вызовет ошибку\n",
    "s[0] = \"h\"\n",
    "\n",
    "# Правильный способ \"изменить\" строку - создать новую\n",
    "new_s = \"h\" + s[1:]\n",
    "print(f\"Новая строка: '{new_s}'\")"
   ]
  },
  {
   "cell_type": "markdown",
   "metadata": {},
   "source": [
    "### 2.5 Ошибки доступа к строкам\n",
    "\n",
    "Попытка доступа к несуществующему индексу вызывает IndexError."
   ]
  },
  {
   "cell_type": "code",
   "execution_count": null,
   "metadata": {},
   "outputs": [],
   "source": [
    "# Демонстрация ошибок доступа к строкам\n",
    "text = \"Python\"\n",
    "\n",
    "print(f\"Длина строки: {len(text)}\")\n",
    "print(f\"Доступ к существующему индексу: text[2] = '{text[2]}'\")\n",
    "\n",
    "# Попытка доступа к несуществующему индексу\n",
    "print(f\"Попытка доступа к несуществующему индексу: text[10] = '{text[10]}'\")\n",
    "\n",
    "# Попытка доступа к отрицательному индексу за пределами\n",
    "print(f\"Попытка доступа к отрицательному индексу за пределами: text[-10] = '{text[-10]}'\")"
   ]
  },
  {
   "cell_type": "markdown",
   "metadata": {},
   "source": [
    "### 2.6 Основные методы строк\n",
    "\n",
    "Строки имеют множество полезных методов для работы с текстом."
   ]
  },
  {
   "cell_type": "code",
   "execution_count": null,
   "metadata": {},
   "outputs": [],
   "source": [
    "# Демонстрация методов строк\n",
    "text = \"  Hello, Python!  \"\n",
    "mixed_case = \"PyThOn PrOgRaMmInG\"\n",
    "\n",
    "print(f\"Исходная строка: '{text}'\")\n",
    "print(f\"upper(): '{text.upper()}'\")\n",
    "print(f\"lower(): '{text.lower()}'\")\n",
    "print(f\"strip(): '{text.strip()}'\")\n",
    "print(f\"replace('Python', 'World'): '{text.replace('Python', 'World')}'\")\n",
    "print(f\"split(','): {text.split(',')}\")\n",
    "print(f\"find('Python'): {text.find('Python')}\")\n",
    "print(f\"startswith('Hello'): {text.startswith('Hello')}\")\n",
    "print(f\"endswith('!'): {text.endswith('!')}\")\n",
    "print(f\"capitalize(): '{mixed_case.capitalize()}'\")\n",
    "print(f\"title(): '{mixed_case.title()}'\")"
   ]
  },
  {
   "cell_type": "markdown",
   "metadata": {},
   "source": [
    "### Задачи для практики (строки)"
   ]
  },
  {
   "cell_type": "markdown",
   "metadata": {},
   "source": [
    "**Задача 2.1:** Напишите программу, которая принимает имя и выводит приветствие"
   ]
  },
  {
   "cell_type": "code",
   "execution_count": 24,
   "metadata": {},
   "outputs": [
    {
     "name": "stdin",
     "output_type": "stream",
     "text": [
      "Введите имя: привет\n"
     ]
    },
    {
     "name": "stdout",
     "output_type": "stream",
     "text": [
      "Привет, привет\n"
     ]
    }
   ],
   "source": [
    "str =input(\"Введите имя:\")\n",
    "print(f\"Привет, {str}\")"
   ]
  },
  {
   "cell_type": "markdown",
   "metadata": {},
   "source": [
    "**Задача 2.2:** Создайте программу, которая переворачивает строку"
   ]
  },
  {
   "cell_type": "code",
   "execution_count": 27,
   "metadata": {},
   "outputs": [
    {
     "name": "stdin",
     "output_type": "stream",
     "text": [
      "Введите строчк: abv\n"
     ]
    },
    {
     "name": "stdout",
     "output_type": "stream",
     "text": [
      "Перевернутая строка: vba\n"
     ]
    }
   ],
   "source": [
    "str = input(\"Введите строчк:\")\n",
    "reversed = str[::-1]\n",
    "print(f\"Перевернутая строка: {reversed}\")"
   ]
  },
  {
   "cell_type": "markdown",
   "metadata": {},
   "source": [
    "**Задача 2.3:** Напишите программу, которая подсчитывает количество пробелов в строке"
   ]
  },
  {
   "cell_type": "code",
   "execution_count": 29,
   "metadata": {},
   "outputs": [
    {
     "name": "stdin",
     "output_type": "stream",
     "text": [
      "Введите строку:  dfgfhgj ghjk dfghghj fgh\n"
     ]
    },
    {
     "name": "stdout",
     "output_type": "stream",
     "text": [
      "Количество пробелов в строке: 3\n"
     ]
    }
   ],
   "source": [
    "str = input(\"Введите строку: \")\n",
    "count = str.count(\" \")\n",
    "print(f\"Количество пробелов в строке: {count}\")"
   ]
  },
  {
   "cell_type": "markdown",
   "metadata": {},
   "source": [
    "**Задача 2.4:** Создайте программу, которая проверяет, начинается ли строка с определенной подстроки"
   ]
  },
  {
   "cell_type": "code",
   "execution_count": 30,
   "metadata": {},
   "outputs": [
    {
     "name": "stdin",
     "output_type": "stream",
     "text": [
      "Введите строку:  blablabla\n",
      "Введите подстроку для проверки:  blab\n"
     ]
    },
    {
     "name": "stdout",
     "output_type": "stream",
     "text": [
      "Строка начинается с 'blab'\n"
     ]
    }
   ],
   "source": [
    "str = input(\"Введите строку: \")\n",
    "substring = input(\"Введите подстроку для проверки: \")\n",
    "\n",
    "if str.startswith(substring):\n",
    "    print(f\"Строка начинается с '{substring}'\")\n",
    "else:\n",
    "    print(f\"Строка не начинается с '{substring}'\")"
   ]
  },
  {
   "cell_type": "markdown",
   "metadata": {},
   "source": [
    "**Задача 2.5:** Напишите программу, которая преобразует строку в список слов"
   ]
  },
  {
   "cell_type": "code",
   "execution_count": 31,
   "metadata": {},
   "outputs": [
    {
     "name": "stdin",
     "output_type": "stream",
     "text": [
      "Введите строку:  fsdg ggdg gdfgdgf gfg\n"
     ]
    },
    {
     "name": "stdout",
     "output_type": "stream",
     "text": [
      "Список слов: ['fsdg', 'ggdg', 'gdfgdgf', 'gfg']\n"
     ]
    }
   ],
   "source": [
    "str = input(\"Введите строку: \")\n",
    "words = str.split()\n",
    "print(f\"Список слов: {words}\")"
   ]
  },
  {
   "cell_type": "markdown",
   "metadata": {},
   "source": [
    "**Задача 2.6:** Создайте программу, которая извлекает каждый второй символ из строки"
   ]
  },
  {
   "cell_type": "code",
   "execution_count": 32,
   "metadata": {},
   "outputs": [
    {
     "name": "stdin",
     "output_type": "stream",
     "text": [
      "Введите строку:  ghdfjgkdfg\n"
     ]
    },
    {
     "name": "stdout",
     "output_type": "stream",
     "text": [
      "Каждый второй символ: 'hfgdg'\n"
     ]
    }
   ],
   "source": [
    "str = input(\"Введите строку: \")\n",
    "result = str[1::2] \n",
    "print(f\"Каждый второй символ: '{result}'\")"
   ]
  },
  {
   "cell_type": "markdown",
   "metadata": {},
   "source": [
    "<a id=\"3\"></a>\n",
    "## 3. Базовые типы данных (массивы - списки)"
   ]
  },
  {
   "cell_type": "markdown",
   "metadata": {},
   "source": [
    "### 3.1 Создание списков\n",
    "\n",
    "Списки - изменяемые последовательности элементов."
   ]
  },
  {
   "cell_type": "code",
   "execution_count": null,
   "metadata": {},
   "outputs": [],
   "source": [
    "# Разные способы создания списков\n",
    "list1 = [1, 2, 3, 4, 5]                    # Числа\n",
    "list2 = [\"apple\", \"banana\", \"cherry\"]      # Строки\n",
    "list3 = [1, \"hello\", 3.14, True]           # Разные типы\n",
    "list4 = list(range(1, 6))                  # Из range\n",
    "list5 = []                                 # Пустой список\n",
    "\n",
    "print(\"list1:\", list1)\n",
    "print(\"list2:\", list2)\n",
    "print(\"list3:\", list3)\n",
    "print(\"list4:\", list4)\n",
    "print(\"list5:\", list5)"
   ]
  },
  {
   "cell_type": "markdown",
   "metadata": {},
   "source": [
    "### 3.2 Операции со списками\n",
    "\n",
    "| Операция | Описание | Пример |\n",
    "|----------|----------|---------|\n",
    "| `+` | Конкатенация | `[1,2] + [3,4] = [1,2,3,4]` |\n",
    "| `*` | Повторение | `[1,2] * 2 = [1,2,1,2]` |\n",
    "| `[]` | Индексация | `[1,2,3][0] = 1` |\n",
    "| `[start:end]` | Срез | `[1,2,3,4][1:3] = [2,3]` |\n",
    "| `in` | Проверка наличия | `2 in [1,2,3] = True` |"
   ]
  },
  {
   "cell_type": "code",
   "execution_count": null,
   "metadata": {},
   "outputs": [],
   "source": [
    "# Демонстрация операций со списками\n",
    "numbers = [1, 2, 3, 4, 5]\n",
    "fruits = [\"apple\", \"banana\"]\n",
    "\n",
    "print(f\"Исходный список: {numbers}\")\n",
    "print(f\"Конкатенация: {numbers} + [6,7] = {numbers + [6, 7]}\")\n",
    "print(f\"Повторение: {fruits} * 2 = {fruits * 2}\")\n",
    "print(f\"Длина: len({numbers}) = {len(numbers)}\")\n",
    "print(f\"Индексация: {numbers}[0] = {numbers[0]}\")\n",
    "print(f\"Срез: {numbers}[1:4] = {numbers[1:4]}\")\n",
    "print(f\"Проверка наличия: 3 in {numbers} = {3 in numbers}\")"
   ]
  },
  {
   "cell_type": "markdown",
   "metadata": {},
   "source": [
    "### 3.3 Расширенная индексация и срезы в списках\n",
    "\n",
    "Списки поддерживают те же операции срезами, что и строки."
   ]
  },
  {
   "cell_type": "code",
   "execution_count": null,
   "metadata": {},
   "outputs": [],
   "source": [
    "# Расширенные операции со срезами в списках\n",
    "numbers = [0, 1, 2, 3, 4, 5, 6, 7, 8, 9]\n",
    "\n",
    "print(f\"Исходный список: {numbers}\")\n",
    "print(f\"Срез с шагом 2: {numbers[::2]}\")\n",
    "print(f\"Срез с шагом -1 (реверс): {numbers[::-1]}\")\n",
    "print(f\"Срез от начала до 5: {numbers[:5]}\")\n",
    "print(f\"Срез с 5 до конца: {numbers[5:]}\")\n",
    "print(f\"Срез с шагом 3: {numbers[::3]}\")\n",
    "print(f\"Отрицательные индексы в срезах: {numbers[-5:-2]}\")\n",
    "print(f\"Отрицательный шаг с границами: {numbers[8:2:-2]}\")"
   ]
  },
  {
   "cell_type": "markdown",
   "metadata": {},
   "source": [
    "### 3.4 Изменяемость списков\n",
    "\n",
    "Списки являются изменяемыми объектами. Мы можем изменять, добавлять и удалять элементы."
   ]
  },
  {
   "cell_type": "code",
   "execution_count": null,
   "metadata": {},
   "outputs": [],
   "source": [
    "# Демонстрация изменяемости списков\n",
    "my_list = [1, 2, 3, 4, 5]\n",
    "print(f\"Исходный список: {my_list}\")\n",
    "\n",
    "# Изменение элемента по индексу\n",
    "my_list[0] = 10\n",
    "print(f\"После изменения my_list[0] = 10: {my_list}\")\n",
    "\n",
    "# Изменение среза\n",
    "my_list[1:3] = [20, 30]\n",
    "print(f\"После изменения среза my_list[1:3] = [20, 30]: {my_list}\")\n",
    "\n",
    "# Добавление элемента\n",
    "my_list.append(6)\n",
    "print(f\"После append(6): {my_list}\")\n",
    "\n",
    "# Удаление элемента\n",
    "del my_list[2]\n",
    "print(f\"После del my_list[2]: {my_list}\")"
   ]
  },
  {
   "cell_type": "markdown",
   "metadata": {},
   "source": [
    "### 3.5 Ошибки доступа к спискам\n",
    "\n",
    "Попытка доступа к несуществующему индексу вызывает IndexError."
   ]
  },
  {
   "cell_type": "code",
   "execution_count": null,
   "metadata": {},
   "outputs": [],
   "source": [
    "# Демонстрация ошибок доступа к спискам\n",
    "my_list = [1, 2, 3]\n",
    "\n",
    "print(f\"Длина списка: {len(my_list)}\")\n",
    "print(f\"Доступ к существующему индексу: my_list[1] = {my_list[1]}\")\n",
    "\n",
    "# Попытка доступа к несуществующему индексу\n",
    "print(f\"Попытка доступа к несуществующему индексу: my_list[5] = {my_list[5]}\")\n",
    "\n",
    "# Попытка доступа к отрицательному индексу за пределами\n",
    "print(f\"Попытка доступа к отрицательному индексу за пределами: my_list[-5] = {my_list[-5]}\")"
   ]
  },
  {
   "cell_type": "markdown",
   "metadata": {},
   "source": [
    "### 3.6 Методы списков\n",
    "\n",
    "Основные методы для работы со списками."
   ]
  },
  {
   "cell_type": "code",
   "execution_count": null,
   "metadata": {},
   "outputs": [],
   "source": [
    "# Демонстрация методов списков\n",
    "numbers = [1, 2, 3]\n",
    "print(f\"Исходный список: {numbers}\")\n",
    "\n",
    "numbers.append(4)\n",
    "print(f\"После append(4): {numbers}\")\n",
    "\n",
    "numbers.insert(1, 10)\n",
    "print(f\"После insert(1, 10): {numbers}\")\n",
    "\n",
    "numbers.extend([5, 6])\n",
    "print(f\"После extend([5, 6]): {numbers}\")\n",
    "\n",
    "removed = numbers.pop()\n",
    "print(f\"После pop(): {numbers}, удален: {removed}\")\n",
    "\n",
    "numbers.remove(10)\n",
    "print(f\"После remove(10): {numbers}\")\n",
    "\n",
    "numbers.reverse()\n",
    "print(f\"После reverse(): {numbers}\")\n",
    "\n",
    "numbers.sort()\n",
    "print(f\"После sort(): {numbers}\")"
   ]
  },
  {
   "cell_type": "markdown",
   "metadata": {},
   "source": [
    "### Задачи для практики (списки)"
   ]
  },
  {
   "cell_type": "markdown",
   "metadata": {},
   "source": [
    "**Задача 3.1:** Создайте список чисел от 1 до 10 и выведите все элементы"
   ]
  },
  {
   "cell_type": "code",
   "execution_count": 33,
   "metadata": {},
   "outputs": [
    {
     "name": "stdout",
     "output_type": "stream",
     "text": [
      "Список чисел от 1 до 10:\n",
      "[1, 2, 3, 4, 5, 6, 7, 8, 9, 10]\n"
     ]
    }
   ],
   "source": [
    "numbers = list(range(1, 11))\n",
    "print(\"Список чисел от 1 до 10:\")\n",
    "print(numbers)"
   ]
  },
  {
   "cell_type": "markdown",
   "metadata": {},
   "source": [
    "**Задача 3.2:** Напишите программу, которая находит сумму всех элементов списка"
   ]
  },
  {
   "cell_type": "code",
   "execution_count": 37,
   "metadata": {},
   "outputs": [
    {
     "name": "stdin",
     "output_type": "stream",
     "text": [
      "Введите числа через пробел:  4 4 2 4 5 6 2 1 \n"
     ]
    },
    {
     "name": "stdout",
     "output_type": "stream",
     "text": [
      "Список: [4, 4, 2, 4, 5, 6, 2, 1]\n",
      "Сумма элементов: 28\n"
     ]
    }
   ],
   "source": [
    "numbers = input(\"Введите числа через пробел: \")\n",
    "num = list(map(int, numbers.split()))\n",
    "total = 0\n",
    "for n in num:\n",
    "    total+=n\n",
    "print(f\"Список: {num}\")\n",
    "print(f\"Сумма элементов: {total}\")"
   ]
  },
  {
   "cell_type": "markdown",
   "metadata": {},
   "source": [
    "**Задача 3.3:** Создайте программу, которая находит максимальный элемент в списке"
   ]
  },
  {
   "cell_type": "code",
   "execution_count": 38,
   "metadata": {},
   "outputs": [
    {
     "name": "stdin",
     "output_type": "stream",
     "text": [
      "Введите числа через пробел:  5 2 4 43 131 3 1\n"
     ]
    },
    {
     "name": "stdout",
     "output_type": "stream",
     "text": [
      "Список: [5, 2, 4, 43, 131, 3, 1]\n",
      "Максимальный элемент: 131\n"
     ]
    }
   ],
   "source": [
    "numbers = input(\"Введите числа через пробел: \")\n",
    "num = list(map(int, numbers.split()))\n",
    "maximum = max(num)\n",
    "print(f\"Список: {num}\")\n",
    "print(f\"Максимальный элемент: {maximum}\")"
   ]
  },
  {
   "cell_type": "markdown",
   "metadata": {},
   "source": [
    "**Задача 3.4:** Напишите программу, которая объединяет два списка"
   ]
  },
  {
   "cell_type": "code",
   "execution_count": 39,
   "metadata": {},
   "outputs": [
    {
     "name": "stdin",
     "output_type": "stream",
     "text": [
      "Введите числа через пробел:  1 3 5\n",
      "Введите числа через пробел:  2 7 8\n"
     ]
    },
    {
     "name": "stdout",
     "output_type": "stream",
     "text": [
      "Первый список: [1, 3, 5]\n",
      "Второй список: [2, 7, 8]\n",
      "Объединенный список: [1, 3, 5, 2, 7, 8]\n"
     ]
    }
   ],
   "source": [
    "numbers1 = input(\"Введите числа через пробел: \")\n",
    "num1 = list(map(int, numbers1.split()))\n",
    "numbers2 = input(\"Введите числа через пробел: \")\n",
    "num2 = list(map(int, numbers2.split()))\n",
    "combined = num1 + num2\n",
    "\n",
    "print(f\"Первый список: {num1}\")\n",
    "print(f\"Второй список: {num2}\")\n",
    "print(f\"Объединенный список: {combined}\")"
   ]
  },
  {
   "cell_type": "markdown",
   "metadata": {},
   "source": [
    "**Задача 3.5:** Создайте программу, которая проверяет, пуст ли список"
   ]
  },
  {
   "cell_type": "code",
   "execution_count": 40,
   "metadata": {},
   "outputs": [
    {
     "name": "stdin",
     "output_type": "stream",
     "text": [
      "Введите числа через пробел:  \n"
     ]
    },
    {
     "name": "stdout",
     "output_type": "stream",
     "text": [
      "Список пуст\n"
     ]
    }
   ],
   "source": [
    "numbers1 = input(\"Введите числа через пробел: \")\n",
    "num1 = list(map(int, numbers1.split()))\n",
    "if not num1:\n",
    "    print(\"Список пуст\")\n",
    "else:\n",
    "    print(f\"Список не пуст: {num1}\")"
   ]
  },
  {
   "cell_type": "markdown",
   "metadata": {},
   "source": [
    "**Задача 3.6:** Напишите программу, которая создает список с шагом 2 из исходного списка"
   ]
  },
  {
   "cell_type": "code",
   "execution_count": 7,
   "metadata": {},
   "outputs": [
    {
     "name": "stdin",
     "output_type": "stream",
     "text": [
      "Введите числа через пробел:  423 54 2 543 653 654645\n"
     ]
    },
    {
     "name": "stdout",
     "output_type": "stream",
     "text": [
      "Исходный список: [423, 54, 2, 543, 653, 654645]\n",
      "Список с шагом 2: [423, 2, 653]\n"
     ]
    }
   ],
   "source": [
    "numbers1 = input(\"Введите числа через пробел: \")\n",
    "num1 = list(map(int, numbers1.split()))\n",
    "step_list = num1[::2]  # Каждый второй элемент\n",
    "\n",
    "print(f\"Исходный список: {num1}\")\n",
    "print(f\"Список с шагом 2: {step_list}\")"
   ]
  },
  {
   "cell_type": "markdown",
   "metadata": {},
   "source": [
    "<a id=\"4\"></a>\n",
    "## 4. Базовые типы данных (кортежи)"
   ]
  },
  {
   "cell_type": "markdown",
   "metadata": {},
   "source": [
    "### 4.1 Создание кортежей\n",
    "\n",
    "Кортежи - неизменяемые последовательности."
   ]
  },
  {
   "cell_type": "code",
   "execution_count": null,
   "metadata": {},
   "outputs": [],
   "source": [
    "# Разные способы создания кортежей\n",
    "tuple1 = (1, 2, 3, 4, 5)           # Числа\n",
    "tuple2 = (\"apple\", \"banana\", \"cherry\")  # Строки\n",
    "tuple3 = (1, \"hello\", 3.14, True)  # Разные типы\n",
    "tuple4 = tuple([1, 2, 3])          # Из списка\n",
    "tuple5 = ()                        # Пустой кортеж\n",
    "\n",
    "print(\"tuple1:\", tuple1)\n",
    "print(\"tuple2:\", tuple2)\n",
    "print(\"tuple3:\", tuple3)\n",
    "print(\"tuple4:\", tuple4)\n",
    "print(\"tuple5:\", tuple5)"
   ]
  },
  {
   "cell_type": "markdown",
   "metadata": {},
   "source": [
    "### 4.2 Особенности кортежей\n",
    "\n",
    "Кортежи с одним элементом требуют запятой после элемента."
   ]
  },
  {
   "cell_type": "code",
   "execution_count": null,
   "metadata": {},
   "outputs": [],
   "source": [
    "# Особенности создания кортежей\n",
    "single_element = (5,)      # Кортеж с одним элементом\n",
    "not_a_tuple = (5)          # Это не кортеж, а число\n",
    "empty_tuple = ()           # Пустой кортеж\n",
    "\n",
    "print(f\"single_element: {single_element}, тип: {type(single_element)}\")\n",
    "print(f\"not_a_tuple: {not_a_tuple}, тип: {type(not_a_tuple)}\")\n",
    "print(f\"empty_tuple: {empty_tuple}, тип: {type(empty_tuple)}\")"
   ]
  },
  {
   "cell_type": "markdown",
   "metadata": {},
   "source": [
    "### 4.3 Операции с кортежами\n",
    "\n",
    "Кортежи поддерживают те же операции, что и списки, кроме изменяющих методов."
   ]
  },
  {
   "cell_type": "code",
   "execution_count": null,
   "metadata": {},
   "outputs": [],
   "source": [
    "# Демонстрация операций с кортежами\n",
    "t = (1, 2, 3, 4, 5)\n",
    "\n",
    "print(f\"Исходный кортеж: {t}\")\n",
    "print(f\"Длина: len({t}) = {len(t)}\")\n",
    "print(f\"Индексация: {t}[0] = {t[0]}\")\n",
    "print(f\"Срез: {t}[1:4] = {t[1:4]}\")\n",
    "print(f\"Конкатенация: {t} + (6, 7) = {t + (6, 7)}\")\n",
    "print(f\"Повторение: {t[:2]} * 3 = {t[:2] * 3}\")\n",
    "print(f\"Проверка наличия: 3 in {t} = {3 in t}\")"
   ]
  },
  {
   "cell_type": "markdown",
   "metadata": {},
   "source": [
    "### 4.4 Неизменяемость кортежей\n",
    "\n",
    "Кортежи являются неизменяемыми объектами. Попытка изменить элемент кортежа вызовет ошибку."
   ]
  },
  {
   "cell_type": "code",
   "execution_count": null,
   "metadata": {},
   "outputs": [],
   "source": [
    "# Демонстрация неизменяемости кортежей\n",
    "my_tuple = (1, 2, 3, 4, 5)\n",
    "print(f\"Исходный кортеж: {my_tuple}\")\n",
    "\n",
    "# Попытка изменить кортеж вызовет ошибку\n",
    "my_tuple[0] = 10\n",
    "\n",
    "# Правильный способ \"изменить\" кортеж - создать новый\n",
    "new_tuple = (10,) + my_tuple[1:]\n",
    "print(f\"Новый кортеж: {new_tuple}\")"
   ]
  },
  {
   "cell_type": "markdown",
   "metadata": {},
   "source": [
    "### 4.5 Ошибки доступа к кортежам\n",
    "\n",
    "Попытка доступа к несуществующему индексу вызывает IndexError."
   ]
  },
  {
   "cell_type": "code",
   "execution_count": null,
   "metadata": {},
   "outputs": [],
   "source": [
    "# Демонстрация ошибок доступа к кортежам\n",
    "my_tuple = (1, 2, 3)\n",
    "\n",
    "print(f\"Длина кортежа: {len(my_tuple)}\")\n",
    "print(f\"Доступ к существующему индексу: my_tuple[1] = {my_tuple[1]}\")\n",
    "\n",
    "# Попытка доступа к несуществующему индексу\n",
    "print(f\"Попытка доступа к несуществующему индексу: my_tuple[5] = {my_tuple[5]}\")\n",
    "\n",
    "# Попытка доступа к отрицательному индексу за пределами\n",
    "print(f\"Попытка доступа к отрицательному индексу за пределами: my_tuple[-5] = {my_tuple[-5]}\")"
   ]
  },
  {
   "cell_type": "markdown",
   "metadata": {},
   "source": [
    "### 4.6 Распаковка кортежей\n",
    "\n",
    "Кортежи можно распаковывать в отдельные переменные."
   ]
  },
  {
   "cell_type": "code",
   "execution_count": null,
   "metadata": {},
   "outputs": [],
   "source": [
    "# Демонстрация распаковки кортежей\n",
    "point = (10, 20)\n",
    "x, y = point\n",
    "print(f\"point = {point}\")\n",
    "print(f\"После распаковки: x = {x}, y = {y}\")\n",
    "\n",
    "# Множественная распаковка\n",
    "coordinates = (1, 2, 3)\n",
    "a, b, c = coordinates\n",
    "print(f\"coordinates = {coordinates}\")\n",
    "print(f\"После распаковки: a = {a}, b = {b}, c = {c}\")"
   ]
  },
  {
   "cell_type": "markdown",
   "metadata": {},
   "source": [
    "### Задачи для практики (кортежи)"
   ]
  },
  {
   "cell_type": "markdown",
   "metadata": {},
   "source": [
    "**Задача 4.1:** Создайте кортеж с координатами точки и распакуйте его"
   ]
  },
  {
   "cell_type": "code",
   "execution_count": 42,
   "metadata": {},
   "outputs": [
    {
     "name": "stdout",
     "output_type": "stream",
     "text": [
      "Координаты точки: (3, 7)\n",
      "X координата: 3\n",
      "Y координата: 7\n"
     ]
    }
   ],
   "source": [
    "point = (3, 7)\n",
    "x, y = point\n",
    "print(f\"Координаты точки: {point}\")\n",
    "print(f\"X координата: {x}\")\n",
    "print(f\"Y координата: {y}\")"
   ]
  },
  {
   "cell_type": "markdown",
   "metadata": {},
   "source": [
    "**Задача 4.2:** Напишите программу, которая объединяет два кортежа"
   ]
  },
  {
   "cell_type": "code",
   "execution_count": 43,
   "metadata": {},
   "outputs": [
    {
     "name": "stdout",
     "output_type": "stream",
     "text": [
      "Первый кортеж: (1, 2, 3)\n",
      "Второй кортеж: (4, 5, 6)\n",
      "Объединенный: (1, 2, 3, 4, 5, 6)\n"
     ]
    }
   ],
   "source": [
    "tuple1 = (1, 2, 3)\n",
    "tuple2 = (4, 5, 6)\n",
    "combined = tuple1 + tuple2\n",
    "\n",
    "print(f\"Первый кортеж: {tuple1}\")\n",
    "print(f\"Второй кортеж: {tuple2}\")\n",
    "print(f\"Объединенный: {combined}\")"
   ]
  },
  {
   "cell_type": "markdown",
   "metadata": {},
   "source": [
    "**Задача 4.3:** Создайте кортеж из трех элементов и выведите его длину"
   ]
  },
  {
   "cell_type": "code",
   "execution_count": 44,
   "metadata": {},
   "outputs": [
    {
     "name": "stdout",
     "output_type": "stream",
     "text": [
      "Кортеж: (10, 20, 30)\n",
      "Длина кортежа: 3\n"
     ]
    }
   ],
   "source": [
    "my_tuple = (10, 20, 30)\n",
    "length = len(my_tuple)\n",
    "\n",
    "print(f\"Кортеж: {my_tuple}\")\n",
    "print(f\"Длина кортежа: {length}\")"
   ]
  },
  {
   "cell_type": "markdown",
   "metadata": {},
   "source": [
    "**Задача 4.4:** Напишите программу, которая проверяет наличие элемента в кортеже"
   ]
  },
  {
   "cell_type": "code",
   "execution_count": 45,
   "metadata": {},
   "outputs": [
    {
     "name": "stdout",
     "output_type": "stream",
     "text": [
      "'orange' найден в кортеже\n"
     ]
    }
   ],
   "source": [
    "things = ('milk', 'table', 'orange', 'glass')\n",
    "search = 'orange'\n",
    "if search in things:\n",
    "    print(f\"'{search}' найден в кортеже\")\n",
    "else:\n",
    "    print(f\"'{search}' не найден в кортеже\")\n"
   ]
  },
  {
   "cell_type": "markdown",
   "metadata": {},
   "source": [
    "**Задача 4.5:** Создайте кортеж и выведите его последний элемент"
   ]
  },
  {
   "cell_type": "code",
   "execution_count": 46,
   "metadata": {},
   "outputs": [
    {
     "name": "stdout",
     "output_type": "stream",
     "text": [
      "Кортеж: (1, 'b', 'c', 'd', 3)\n",
      "Последний элемент: 3\n"
     ]
    }
   ],
   "source": [
    "my_tuple = (1, 'b', 'c', 'd', 3)\n",
    "last_element = my_tuple[-1]\n",
    "\n",
    "print(f\"Кортеж: {my_tuple}\")\n",
    "print(f\"Последний элемент: {last_element}\")"
   ]
  },
  {
   "cell_type": "markdown",
   "metadata": {},
   "source": [
    "**Задача 4.6:** Напишите программу, которая пытается изменить элемент кортежа"
   ]
  },
  {
   "cell_type": "code",
   "execution_count": 48,
   "metadata": {},
   "outputs": [
    {
     "name": "stdout",
     "output_type": "stream",
     "text": [
      "Исходный кортеж: (1, 2, 3, 4, 5)\n",
      "Ошибка при попытке изменения: 'tuple' object does not support item assignment\n"
     ]
    }
   ],
   "source": [
    "my_tuple = (1, 2, 3, 4, 5)\n",
    "print(f\"Исходный кортеж: {my_tuple}\")\n",
    "\n",
    "try:\n",
    "    my_tuple[2] = 10\n",
    "except TypeError as e:\n",
    "    print(f\"Ошибка при попытке изменения: {e}\")"
   ]
  },
  {
   "cell_type": "markdown",
   "metadata": {},
   "source": [
    "<a id=\"5\"></a>\n",
    "## 5. Базовые типы данных (словари)"
   ]
  },
  {
   "cell_type": "markdown",
   "metadata": {},
   "source": [
    "### 5.1 Создание словарей\n",
    "\n",
    "Словари - коллекции пар ключ-значение."
   ]
  },
  {
   "cell_type": "code",
   "execution_count": null,
   "metadata": {},
   "outputs": [],
   "source": [
    "# Разные способы создания словарей\n",
    "dict1 = {\"name\": \"Alice\", \"age\": 25, \"city\": \"Moscow\"}  # Литерал\n",
    "dict2 = dict(name=\"Bob\", age=30, city=\"SPb\")           # Функция dict()\n",
    "dict3 = {1: \"one\", 2: \"two\", 3: \"three\"}               # Числовые ключи\n",
    "dict4 = {}                                            # Пустой словарь\n",
    "\n",
    "print(\"dict1:\", dict1)\n",
    "print(\"dict2:\", dict2)\n",
    "print(\"dict3:\", dict3)\n",
    "print(\"dict4:\", dict4)"
   ]
  },
  {
   "cell_type": "markdown",
   "metadata": {},
   "source": [
    "### 5.2 Операции со словарями\n",
    "\n",
    "| Операция | Описание | Пример |\n",
    "|----------|----------|---------|\n",
    "| `[]` | Доступ по ключу | `dict[\"key\"]` |\n",
    "| `in` | Проверка ключа | `\"key\" in dict` |\n",
    "| `del` | Удаление элемента | `del dict[\"key\"]` |"
   ]
  },
  {
   "cell_type": "code",
   "execution_count": null,
   "metadata": {},
   "outputs": [],
   "source": [
    "# Демонстрация операций со словарями\n",
    "person = {\"name\": \"Alice\", \"age\": 25, \"city\": \"Moscow\"}\n",
    "\n",
    "print(f\"Исходный словарь: {person}\")\n",
    "print(f\"Доступ по ключу: person['name'] = {person['name']}\")\n",
    "print(f\"Проверка ключа: 'age' in person = {'age' in person}\")\n",
    "print(f\"Проверка ключа: 'salary' in person = {'salary' in person}\")\n",
    "\n",
    "# Безопасный доступ\n",
    "print(f\"get('age'): {person.get('age')}\")\n",
    "print(f\"get('salary'): {person.get('salary')}\")\n",
    "print(f\"get('salary', 'Не указано'): {person.get('salary', 'Не указано')}\")"
   ]
  },
  {
   "cell_type": "markdown",
   "metadata": {},
   "source": [
    "### 5.3 Изменяемость словарей\n",
    "\n",
    "Словари являются изменяемыми объектами. Мы можем изменять, добавлять и удалять элементы."
   ]
  },
  {
   "cell_type": "code",
   "execution_count": null,
   "metadata": {},
   "outputs": [],
   "source": [
    "# Демонстрация изменяемости словарей\n",
    "person = {\"name\": \"Alice\", \"age\": 25}\n",
    "print(f\"Исходный словарь: {person}\")\n",
    "\n",
    "# Добавление нового элемента\n",
    "person[\"city\"] = \"Moscow\"\n",
    "print(f\"После добавления города: {person}\")\n",
    "\n",
    "# Изменение существующего элемента\n",
    "person[\"age\"] = 26\n",
    "print(f\"После изменения возраста: {person}\")\n",
    "\n",
    "# Удаление элемента\n",
    "del person[\"city\"]\n",
    "print(f\"После удаления города: {person}\")\n",
    "\n",
    "# Обновление нескольких элементов\n",
    "person.update({\"job\": \"developer\", \"salary\": 50000})\n",
    "print(f\"После update(): {person}\")"
   ]
  },
  {
   "cell_type": "markdown",
   "metadata": {},
   "source": [
    "### 5.4 Ошибки доступа к словарям\n",
    "\n",
    "Попытка доступа к несуществующему ключу вызывает KeyError."
   ]
  },
  {
   "cell_type": "code",
   "execution_count": null,
   "metadata": {},
   "outputs": [],
   "source": [
    "# Демонстрация ошибок доступа к словарям\n",
    "person = {\"name\": \"Alice\", \"age\": 25}\n",
    "\n",
    "print(f\"Исходный словарь: {person}\")\n",
    "print(f\"Доступ к существующему ключу: person['name'] = {person['name']}\")\n",
    "\n",
    "# Попытка доступа к несуществующему ключу\n",
    "print(f\"Попытка доступа к несуществующему ключу: person['salary'] = {person['salary']}\")\n",
    "\n",
    "# Безопасные способы доступа\n",
    "print(f\"Безопасный доступ через get(): person.get('salary') = {person.get('salary')}\")\n",
    "print(f\"Безопасный доступ с значением по умолчанию: person.get('salary', 0) = {person.get('salary', 0)}\")"
   ]
  },
  {
   "cell_type": "markdown",
   "metadata": {},
   "source": [
    "### 5.5 Методы словарей\n",
    "\n",
    "Основные методы для работы со словарями."
   ]
  },
  {
   "cell_type": "code",
   "execution_count": null,
   "metadata": {},
   "outputs": [],
   "source": [
    "# Демонстрация методов словарей\n",
    "person = {\"name\": \"Alice\", \"age\": 25}\n",
    "\n",
    "print(f\"Исходный словарь: {person}\")\n",
    "print(f\"Ключи: {list(person.keys())}\")\n",
    "print(f\"Значения: {list(person.values())}\")\n",
    "print(f\"Пары ключ-значение: {list(person.items())}\")\n",
    "\n",
    "# Изменение словаря\n",
    "person[\"city\"] = \"Moscow\"\n",
    "print(f\"После добавления города: {person}\")\n",
    "\n",
    "person[\"age\"] = 26\n",
    "print(f\"После изменения возраста: {person}\")\n",
    "\n",
    "removed_value = person.pop(\"city\")\n",
    "print(f\"После pop('city'): {person}, удалено: {removed_value}\")"
   ]
  },
  {
   "cell_type": "markdown",
   "metadata": {},
   "source": [
    "### Задачи для практики (словари)"
   ]
  },
  {
   "cell_type": "markdown",
   "metadata": {},
   "source": [
    "**Задача 5.1:** Создайте словарь с информацией о книге и выведите ее"
   ]
  },
  {
   "cell_type": "code",
   "execution_count": 2,
   "metadata": {},
   "outputs": [
    {
     "name": "stdout",
     "output_type": "stream",
     "text": [
      "Исходный словарь: {'title': 'Мастер и Маргарита', 'author': 'Михаил Булгаков', 'year': 1967, 'pages': 480}\n",
      "Информация о книге:\n",
      "Название: Мастер и Маргарита\n",
      "Автор: Михаил Булгаков\n",
      "Год издания: 1967\n",
      "Количество страниц: 480\n"
     ]
    }
   ],
   "source": [
    "dict = {\"title\": \"Мастер и Маргарита\",\n",
    "    \"author\": \"Михаил Булгаков\",\n",
    "    \"year\": 1967,\n",
    "    \"pages\": 480}\n",
    "print(f\"Исходный словарь: {dict}\")\n",
    "print(\"Информация о книге:\")\n",
    "print(f\"Название: {dict['title']}\")\n",
    "print(f\"Автор: {dict['author']}\")\n",
    "print(f\"Год издания: {dict['year']}\")\n",
    "print(f\"Количество страниц: {dict['pages']}\")"
   ]
  },
  {
   "cell_type": "markdown",
   "metadata": {},
   "source": [
    "**Задача 5.2:** Напишите программу, которая добавляет новый элемент в словарь"
   ]
  },
  {
   "cell_type": "code",
   "execution_count": 4,
   "metadata": {},
   "outputs": [
    {
     "name": "stdout",
     "output_type": "stream",
     "text": [
      "После добавления города: {'title': 'Мастер и Маргарита', 'author': 'Михаил Булгаков', 'year': 1967, 'pages': 480, 'izdano': 55000}\n"
     ]
    }
   ],
   "source": [
    "dict = {\"title\": \"Мастер и Маргарита\",\n",
    "    \"author\": \"Михаил Булгаков\",\n",
    "    \"year\": 1967,\n",
    "    \"pages\": 480}\n",
    "dict[\"izdano\"] = 55000\n",
    "print(f\"После добавления города: {dict}\")"
   ]
  },
  {
   "cell_type": "markdown",
   "metadata": {},
   "source": [
    "**Задача 5.3:** Создайте программу, которая выводит все ключи словаря"
   ]
  },
  {
   "cell_type": "code",
   "execution_count": 5,
   "metadata": {},
   "outputs": [
    {
     "name": "stdout",
     "output_type": "stream",
     "text": [
      "Ключи словаря dict:\n",
      "  - title\n",
      "  - author\n",
      "  - year\n",
      "  - pages\n"
     ]
    }
   ],
   "source": [
    "dict = {\"title\": \"Мастер и Маргарита\",\n",
    "    \"author\": \"Михаил Булгаков\",\n",
    "    \"year\": 1967,\n",
    "    \"pages\": 480}\n",
    "\n",
    "print(\"Ключи словаря dict:\")\n",
    "for key in dict:\n",
    "    print(f\"  - {key}\")"
   ]
  },
  {
   "cell_type": "markdown",
   "metadata": {},
   "source": [
    "**Задача 5.4:** Напишите программу, которая проверяет наличие ключа в словаре"
   ]
  },
  {
   "cell_type": "code",
   "execution_count": null,
   "metadata": {},
   "outputs": [],
   "source": [
    "dict = {\"title\": \"Мастер и Маргарита\",\n",
    "    \"author\": \"Михаил Булгаков\",\n",
    "    \"year\": 1967,\n",
    "    \"pages\": 480}\n",
    "keyforcheck = \"year\"\n",
    "if keyforcheck in dict:\n",
    "    print(f\"Ключ {keyforcheck} есть в словаре\")\n",
    "else: \n",
    "    print(f\"Ключ {keyforcheck} не обнаружен в словаре\")"
   ]
  },
  {
   "cell_type": "markdown",
   "metadata": {},
   "source": [
    "**Задача 5.5:** Создайте программу, которая объединяет два словаря"
   ]
  },
  {
   "cell_type": "code",
   "execution_count": 21,
   "metadata": {},
   "outputs": [
    {
     "name": "stdout",
     "output_type": "stream",
     "text": [
      "Первый словарь: {'title': 'Мастер и Маргарита', 'author': 'Булгаков'}\n",
      "Второй словарь: {'year': 1967, 'pages': 480, 'genre': 'роман'}\n",
      "\n",
      "После объединения методом update():\n",
      "Объединенный словарь: {'title': 'Мастер и Маргарита', 'author': 'Булгаков', 'year': 1967, 'pages': 480, 'genre': 'роман'}\n"
     ]
    }
   ],
   "source": [
    "dict1 = {\"title\": \"Мастер и Маргарита\", \"author\": \"Булгаков\"}\n",
    "dict2 = {\"year\": 1967, \"pages\": 480, \"genre\": \"роман\"}\n",
    "dict1.update(dict2)\n",
    "print(\"Объединенный словарь:\", dict1)"
   ]
  },
  {
   "cell_type": "markdown",
   "metadata": {},
   "source": [
    "**Задача 5.6:** Создайте программу, которая безопасно получает значение из словаря с значением по умолчанию"
   ]
  },
  {
   "cell_type": "code",
   "execution_count": 20,
   "metadata": {},
   "outputs": [
    {
     "name": "stdout",
     "output_type": "stream",
     "text": [
      "Year: Михаил Булгаков\n"
     ]
    }
   ],
   "source": [
    "dict = {\"title\": \"Мастер и Маргарита\",\n",
    "    \"author\": \"Михаил Булгаков\",\n",
    "    \"year\": 1967,\n",
    "    \"pages\": 480}\n",
    "publisher = dict.get(\"author\", \"Не известен\")\n",
    "print(f\"Author: {publisher}\")"
   ]
  },
  {
   "cell_type": "markdown",
   "metadata": {},
   "source": [
    "<a id=\"6\"></a>\n",
    "## 6. Базовые типы данных (множества)"
   ]
  },
  {
   "cell_type": "markdown",
   "metadata": {},
   "source": [
    "### 6.1 Создание множеств\n",
    "\n",
    "Множества - неупорядоченные коллекции уникальных элементов."
   ]
  },
  {
   "cell_type": "code",
   "execution_count": null,
   "metadata": {},
   "outputs": [],
   "source": [
    "# Разные способы создания множеств\n",
    "set1 = {1, 2, 3, 4, 5}                    # Литерал\n",
    "set2 = set([3, 4, 5, 6, 7])               # Из списка\n",
    "set3 = set(\"hello\")                       # Из строки\n",
    "set4 = set()                              # Пустое множество\n",
    "\n",
    "print(\"set1:\", set1)\n",
    "print(\"set2:\", set2)\n",
    "print(\"set3:\", set3)\n",
    "print(\"set4:\", set4)"
   ]
  },
  {
   "cell_type": "markdown",
   "metadata": {},
   "source": [
    "### 6.2 Особенности множеств\n",
    "\n",
    "Множества автоматически удаляют дубликаты и не сохраняют порядок элементов."
   ]
  },
  {
   "cell_type": "code",
   "execution_count": null,
   "metadata": {},
   "outputs": [],
   "source": [
    "# Демонстрация особенностей множеств\n",
    "duplicates = {1, 2, 2, 3, 3, 3, 4, 4, 4, 4}\n",
    "string_set = set(\"programming\")\n",
    "empty_set = set()\n",
    "\n",
    "print(f\"Множество с дубликатами: {duplicates}\")\n",
    "print(f\"Множество из строки: {string_set}\")\n",
    "print(f\"Пустое множество: {empty_set}\")\n",
    "\n",
    "# Важно: {} создает словарь, а не множество!\n",
    "empty_dict = {}\n",
    "print(f\"Пустой словарь: {empty_dict}, тип: {type(empty_dict)}\")"
   ]
  },
  {
   "cell_type": "markdown",
   "metadata": {},
   "source": [
    "### 6.3 Изменяемость множеств\n",
    "\n",
    "Множества являются изменяемыми объектами. Мы можем добавлять и удалять элементы."
   ]
  },
  {
   "cell_type": "code",
   "execution_count": null,
   "metadata": {},
   "outputs": [],
   "source": [
    "# Демонстрация изменяемости множеств\n",
    "my_set = {1, 2, 3}\n",
    "print(f\"Исходное множество: {my_set}\")\n",
    "\n",
    "# Добавление элементов\n",
    "my_set.add(4)\n",
    "print(f\"После add(4): {my_set}\")\n",
    "\n",
    "my_set.update([5, 6, 7])\n",
    "print(f\"После update([5, 6, 7]): {my_set}\")\n",
    "\n",
    "# Удаление элементов\n",
    "my_set.remove(4)\n",
    "print(f\"После remove(4): {my_set}\")\n",
    "\n",
    "my_set.discard(10)  # Не вызывает ошибку\n",
    "print(f\"После discard(10): {my_set}\")\n",
    "\n",
    "popped = my_set.pop()\n",
    "print(f\"После pop(): {my_set}, удален: {popped}\")"
   ]
  },
  {
   "cell_type": "markdown",
   "metadata": {},
   "source": [
    "### 6.4 Операции с множествами\n",
    "\n",
    "| Операция | Метод | Описание |\n",
    "|----------|--------|----------|\n",
    "| `|` | `union()` | Объединение |\n",
    "| `&` | `intersection()` | Пересечение |\n",
    "| `-` | `difference()` | Разность |\n",
    "| `^` | `symmetric_difference()` | Симметрическая разность |"
   ]
  },
  {
   "cell_type": "code",
   "execution_count": null,
   "metadata": {},
   "outputs": [],
   "source": [
    "# Демонстрация операций с множествами\n",
    "A = {1, 2, 3, 4, 5}\n",
    "B = {4, 5, 6, 7, 8}\n",
    "\n",
    "print(f\"Множество A: {A}\")\n",
    "print(f\"Множество B: {B}\")\n",
    "print(f\"Объединение (A | B): {A | B}\")\n",
    "print(f\"Пересечение (A & B): {A & B}\")\n",
    "print(f\"Разность (A - B): {A - B}\")\n",
    "print(f\"Симметрическая разность (A ^ B): {A ^ B}\")"
   ]
  },
  {
   "cell_type": "markdown",
   "metadata": {},
   "source": [
    "### 6.5 Ошибки доступа к множествам\n",
    "\n",
    "Множества не поддерживают индексацию, так как они неупорядочены."
   ]
  },
  {
   "cell_type": "code",
   "execution_count": null,
   "metadata": {},
   "outputs": [],
   "source": [
    "# Демонстрация ошибок доступа к множествам\n",
    "my_set = {1, 2, 3}\n",
    "\n",
    "print(f\"Множество: {my_set}\")\n",
    "print(f\"Проверка наличия элемента: 2 in my_set = {2 in my_set}\")\n",
    "\n",
    "# Попытка доступа по индексу\n",
    "print(f\"Попытка доступа по индексу: my_set[0] = {my_set[0]}\")\n",
    "\n",
    "# Попытка удалить несуществующий элемент\n",
    "my_set.remove(10)\n",
    "print(f\"После remove(10): {my_set}\")\n",
    "\n",
    "# Безопасное удаление\n",
    "my_set.discard(10)  # Не вызывает ошибку\n",
    "print(f\"После discard(10): {my_set}\")"
   ]
  },
  {
   "cell_type": "markdown",
   "metadata": {},
   "source": [
    "### 6.6 Методы множеств\n",
    "\n",
    "Основные методы для работы с множествами."
   ]
  },
  {
   "cell_type": "code",
   "execution_count": null,
   "metadata": {},
   "outputs": [],
   "source": [
    "# Демонстрация методов множеств\n",
    "s = {1, 2, 3}\n",
    "\n",
    "print(f\"Исходное множество: {s}\")\n",
    "\n",
    "s.add(4)\n",
    "print(f\"После add(4): {s}\")\n",
    "\n",
    "s.update([5, 6, 7])\n",
    "print(f\"После update([5, 6, 7]): {s}\")\n",
    "\n",
    "s.remove(4)\n",
    "print(f\"После remove(4): {s}\")\n",
    "\n",
    "s.discard(10)  # Не вызывает ошибку если элемента нет\n",
    "print(f\"После discard(10): {s}\")\n",
    "\n",
    "popped = s.pop()\n",
    "print(f\"После pop(): {s}, удален: {popped}\")\n",
    "\n",
    "s.clear()\n",
    "print(f\"После clear(): {s}\")"
   ]
  },
  {
   "cell_type": "markdown",
   "metadata": {},
   "source": [
    "### Задачи для практики (множества)"
   ]
  },
  {
   "cell_type": "markdown",
   "metadata": {},
   "source": [
    "**Задача 6.1:** Создайте множество и добавьте в него новый элемент"
   ]
  },
  {
   "cell_type": "code",
   "execution_count": 8,
   "metadata": {},
   "outputs": [
    {
     "name": "stdout",
     "output_type": "stream",
     "text": [
      "Исходное множество: {1, 2, 3, 'семь', 'k'}\n",
      "После добавления нового элемента: {1, 2, 3, 'семь', 'k', 'string'}\n"
     ]
    }
   ],
   "source": [
    "mset = {1, 2, 3, \"семь\", 'k'}\n",
    "print(f\"Исходное множество: {mset}\")\n",
    "mset.add(\"string\")\n",
    "print(f\"После добавления нового элемента: {mset}\")"
   ]
  },
  {
   "cell_type": "markdown",
   "metadata": {},
   "source": [
    "**Задача 6.2:** Напишите программу, которая находит общие элементы двух множеств"
   ]
  },
  {
   "cell_type": "code",
   "execution_count": 9,
   "metadata": {},
   "outputs": [
    {
     "name": "stdout",
     "output_type": "stream",
     "text": [
      "Пересечение (set & set2): {3, 'k'}\n"
     ]
    }
   ],
   "source": [
    "mset = {1, 2, 3, \"семь\", 'k'}\n",
    "set2 = {'k' , 3 , \"dff\" , 'g' ,7, 111}\n",
    "print(f\"Пересечение (set & set2): {mset & set2}\")"
   ]
  },
  {
   "cell_type": "markdown",
   "metadata": {},
   "source": [
    "**Задача 6.3:** Создайте программу, которая удаляет дубликаты из списка с помощью множества"
   ]
  },
  {
   "cell_type": "code",
   "execution_count": 22,
   "metadata": {},
   "outputs": [
    {
     "name": "stdout",
     "output_type": "stream",
     "text": [
      "Исходный список: [1, 2, 2, 3, 4, 4, 4, 5, 1, 2, 3]\n",
      "Без дубликатов: [1, 2, 3, 4, 5]\n"
     ]
    }
   ],
   "source": [
    "numbers = [1, 2, 2, 3, 4, 4, 4, 5, 1, 2, 3]\n",
    "unique_list = []  # Пустой список\n",
    "for element in numbers:\n",
    "    if element not in unique_list:  \n",
    "        unique_list.append(element) \n",
    "print(f\"Исходный список: {numbers}\")\n",
    "print(f\"Без дубликатов: {unique_list}\")"
   ]
  },
  {
   "cell_type": "markdown",
   "metadata": {},
   "source": [
    "**Задача 6.4:** Напишите программу, которая проверяет, является ли одно множество подмножеством другого"
   ]
  },
  {
   "cell_type": "code",
   "execution_count": 4,
   "metadata": {},
   "outputs": [
    {
     "name": "stdout",
     "output_type": "stream",
     "text": [
      "set является подмножеством set2: True\n"
     ]
    }
   ],
   "source": [
    "mset = {3, 'k', 'g'}\n",
    "set2 = {'k' , 3 , \"dff\" , 'g' ,7, 111}\n",
    "if mset.issubset(set2):\n",
    "    print(f'set является подмножеством set2: {mset.issubset(set2)}')\n",
    "else:\n",
    "    print(f'set не является подмножеством set2')"
   ]
  },
  {
   "cell_type": "markdown",
   "metadata": {},
   "source": [
    "**Задача 6.5:** Создайте программу, которая находит элементы, которые есть только в одном из двух множеств"
   ]
  },
  {
   "cell_type": "code",
   "execution_count": 5,
   "metadata": {},
   "outputs": [
    {
     "name": "stdout",
     "output_type": "stream",
     "text": [
      "Множество set: {'kipr', 3, 52, 'g', 'k'}\n",
      "Множество set2: {3, 'dff', 'g', 7, 'k', 111}\n",
      "Уникальные элементы : {'kipr', 52, 'dff', 7, 111}\n"
     ]
    }
   ],
   "source": [
    "mset = {3, 'k',\"kipr\",52, 'g'}\n",
    "set2 = {'k' , 3 , \"dff\" , 'g' ,7, 111}\n",
    "print(f\"Множество set: {set}\")\n",
    "print(f\"Множество set2: {set2}\")\n",
    "print(f\"Уникальные элементы : {set ^ set2}\")\n"
   ]
  },
  {
   "cell_type": "markdown",
   "metadata": {},
   "source": [
    "**Задача 6.6:** Напишите программу, которая пытается получить элемент множества по индексу"
   ]
  },
  {
   "cell_type": "code",
   "execution_count": 14,
   "metadata": {},
   "outputs": [
    {
     "name": "stdout",
     "output_type": "stream",
     "text": [
      "Индекс -2: 'g'\n",
      "Индекс -1: 'k'\n",
      "Индекс  0: 'kipr'\n",
      "Индекс  1: '3'\n",
      "Индекс  2: '52'\n",
      "Индекс  3: 'g'\n",
      "Индекс  4: 'k'\n",
      "Индекс  5: ОШИБКА - индекс вне диапазона\n",
      "Индекс  6: ОШИБКА - индекс вне диапазона\n"
     ]
    }
   ],
   "source": [
    "mset = {3, 'k',\"kipr\",52, 'g'}\n",
    "for i in range(-2,7):\n",
    "    try:\n",
    "        element = list(mset)[i]\n",
    "        print(f\"Индекс {i:2}: '{element}'\")\n",
    "    except IndexError:\n",
    "        print(f\"Индекс {i:2}: ОШИБКА - индекс вне диапазона\")"
   ]
  },
  {
   "cell_type": "markdown",
   "metadata": {},
   "source": [
    "<a id=\"7\"></a>\n",
    "## 7. Условные операторы"
   ]
  },
  {
   "cell_type": "markdown",
   "metadata": {},
   "source": [
    "### 7.1 Базовый оператор if\n",
    "\n",
    "Оператор `if` выполняет код, если условие истинно."
   ]
  },
  {
   "cell_type": "code",
   "execution_count": null,
   "metadata": {},
   "outputs": [],
   "source": [
    "# Простой оператор if\n",
    "age = 18\n",
    "\n",
    "if age >= 18:\n",
    "    print(\"Вы совершеннолетний\")\n",
    "\n",
    "# Оператор if-else\n",
    "temperature = 25\n",
    "\n",
    "if temperature > 30:\n",
    "    print(\"Жарко\")\n",
    "else:\n",
    "    print(\"Не жарко\")"
   ]
  },
  {
   "cell_type": "markdown",
   "metadata": {},
   "source": [
    "### 7.2 Множественные условия (elif)\n",
    "\n",
    "Оператор `elif` позволяет проверять несколько условий."
   ]
  },
  {
   "cell_type": "code",
   "execution_count": null,
   "metadata": {},
   "outputs": [],
   "source": [
    "# Оператор if-elif-else\n",
    "score = 85\n",
    "\n",
    "if score >= 90:\n",
    "    print(\"Отлично!\")\n",
    "elif score >= 75:\n",
    "    print(\"Хорошо!\")\n",
    "elif score >= 60:\n",
    "    print(\"Удовлетворительно\")\n",
    "else:\n",
    "    print(\"Неудовлетворительно\")"
   ]
  },
  {
   "cell_type": "markdown",
   "metadata": {},
   "source": [
    "### 7.3 Логические операторы\n",
    "\n",
    "| Оператор | Описание | Пример |\n",
    "|----------|----------|---------|\n",
    "| `and` | Логическое И | `a > 0 and b > 0` |\n",
    "| `or` | Логическое ИЛИ | `a > 0 or b > 0` |\n",
    "| `not` | Логическое НЕ | `not a > 0` |"
   ]
  },
  {
   "cell_type": "code",
   "execution_count": null,
   "metadata": {},
   "outputs": [],
   "source": [
    "# Демонстрация логических операторов\n",
    "age = 25\n",
    "has_license = True\n",
    "\n",
    "if age >= 18 and has_license:\n",
    "    print(\"Можно водить машину\")\n",
    "else:\n",
    "    print(\"Нельзя водить машину\")\n",
    "\n",
    "# Сложное условие\n",
    "number = 15\n",
    "\n",
    "if (number % 3 == 0 and number % 5 == 0):\n",
    "    print(\"Число делится на 3 и 5\")\n",
    "elif number % 3 == 0:\n",
    "    print(\"Число делится на 3\")\n",
    "elif number % 5 == 0:\n",
    "    print(\"Число делится на 5\")\n",
    "else:\n",
    "    print(\"Число не делится на 3 или 5\")"
   ]
  },
  {
   "cell_type": "markdown",
   "metadata": {},
   "source": [
    "### Задачи для практики (условные операторы)"
   ]
  },
  {
   "cell_type": "markdown",
   "metadata": {},
   "source": [
    "**Задача 7.1:** Напишите программу, которая проверяет, является ли число четным"
   ]
  },
  {
   "cell_type": "code",
   "execution_count": 54,
   "metadata": {},
   "outputs": [
    {
     "name": "stdin",
     "output_type": "stream",
     "text": [
      "Введите число:  7\n"
     ]
    },
    {
     "name": "stdout",
     "output_type": "stream",
     "text": [
      "Число 7 - нечетное\n"
     ]
    }
   ],
   "source": [
    "number = int(input(\"Введите число: \"))\n",
    "\n",
    "if number % 2 == 0:\n",
    "    print(f\"Число {number} - четное\")\n",
    "else:\n",
    "    print(f\"Число {number} - нечетное\")"
   ]
  },
  {
   "cell_type": "markdown",
   "metadata": {},
   "source": [
    "**Задача 7.2:** Создайте программу, которая определяет, является ли год високосным"
   ]
  },
  {
   "cell_type": "code",
   "execution_count": 55,
   "metadata": {},
   "outputs": [
    {
     "name": "stdin",
     "output_type": "stream",
     "text": [
      "Введите год:  345\n"
     ]
    },
    {
     "name": "stdout",
     "output_type": "stream",
     "text": [
      "345 год - не високосный\n"
     ]
    }
   ],
   "source": [
    "year = int(input(\"Введите год: \"))\n",
    "\n",
    "if (year % 4 == 0 and year % 100 != 0) or (year % 400 == 0):\n",
    "    print(f\"{year} год - високосный\")\n",
    "else:\n",
    "    print(f\"{year} год - не високосный\")"
   ]
  },
  {
   "cell_type": "markdown",
   "metadata": {},
   "source": [
    "**Задача 7.3:** Напишите программу, которая находит максимальное из трех чисел"
   ]
  },
  {
   "cell_type": "code",
   "execution_count": 57,
   "metadata": {},
   "outputs": [
    {
     "name": "stdin",
     "output_type": "stream",
     "text": [
      "Введите первое число:  5\n",
      "Введите второе число:  33\n",
      "Введите третье число:  2\n"
     ]
    },
    {
     "name": "stdout",
     "output_type": "stream",
     "text": [
      "Максимальное число: 33.0\n"
     ]
    }
   ],
   "source": [
    "a = float(input(\"Введите первое число: \"))\n",
    "b = float(input(\"Введите второе число: \"))\n",
    "c = float(input(\"Введите третье число: \"))\n",
    "\n",
    "if a >= b and a >= c:\n",
    "    max_number = a\n",
    "elif b >= a and b >= c:\n",
    "    max_number = b\n",
    "else:\n",
    "    max_number = c\n",
    "\n",
    "print(f\"Максимальное число: {max_number}\")"
   ]
  },
  {
   "cell_type": "markdown",
   "metadata": {},
   "source": [
    "**Задача 7.4:** Создайте программу, которая проверяет, является ли строка пустой"
   ]
  },
  {
   "cell_type": "code",
   "execution_count": 58,
   "metadata": {},
   "outputs": [
    {
     "name": "stdin",
     "output_type": "stream",
     "text": [
      "Введите строку:  \n"
     ]
    },
    {
     "name": "stdout",
     "output_type": "stream",
     "text": [
      "Строка пустая\n"
     ]
    }
   ],
   "source": [
    "string = input(\"Введите строку: \")\n",
    "\n",
    "if not string:\n",
    "    print(\"Строка пустая\")\n",
    "else:\n",
    "    print(f\"Строка не пустая: '{string}'\")"
   ]
  },
  {
   "cell_type": "markdown",
   "metadata": {},
   "source": [
    "**Задача 7.5:** Напишите программу, которая определяет время суток по часу"
   ]
  },
  {
   "cell_type": "code",
   "execution_count": 59,
   "metadata": {},
   "outputs": [
    {
     "name": "stdin",
     "output_type": "stream",
     "text": [
      "Введите час (0-23):  3\n"
     ]
    },
    {
     "name": "stdout",
     "output_type": "stream",
     "text": [
      "Время суток: Ночь\n"
     ]
    }
   ],
   "source": [
    "hour = int(input(\"Введите час (0-23): \"))\n",
    "\n",
    "if 0 <= hour < 6:\n",
    "    time_of_day = \"Ночь\"\n",
    "elif 6 <= hour < 12:\n",
    "    time_of_day = \"Утро\"\n",
    "elif 12 <= hour < 18:\n",
    "    time_of_day = \"День\"\n",
    "elif 18 <= hour < 24:\n",
    "    time_of_day = \"Вечер\"\n",
    "else:\n",
    "    time_of_day = \"Неверное время\"\n",
    "\n",
    "print(f\"Время суток: {time_of_day}\")"
   ]
  },
  {
   "cell_type": "markdown",
   "metadata": {},
   "source": [
    "<a id=\"8\"></a>\n",
    "## 8. Циклы"
   ]
  },
  {
   "cell_type": "markdown",
   "metadata": {},
   "source": [
    "### 8.1 Цикл for\n",
    "\n",
    "Цикл `for` используется для итерации по последовательностям."
   ]
  },
  {
   "cell_type": "code",
   "execution_count": null,
   "metadata": {},
   "outputs": [],
   "source": [
    "# Цикл for по списку\n",
    "fruits = [\"apple\", \"banana\", \"cherry\"]\n",
    "\n",
    "print(\"Цикл for по списку:\")\n",
    "for fruit in fruits:\n",
    "    print(f\"Фрукт: {fruit}\")\n",
    "\n",
    "# Цикл for с range\n",
    "print(\"\\nЦикл for с range():\")\n",
    "for i in range(5):\n",
    "    print(f\"i = {i}\")\n",
    "\n",
    "# Цикл for с enumerate\n",
    "print(\"\\nЦикл for с enumerate():\")\n",
    "for index, fruit in enumerate(fruits):\n",
    "    print(f\"Индекс: {index}, Фрукт: {fruit}\")"
   ]
  },
  {
   "cell_type": "markdown",
   "metadata": {},
   "source": [
    "### 8.2 Цикл while\n",
    "\n",
    "Цикл `while` выполняется, пока условие истинно."
   ]
  },
  {
   "cell_type": "code",
   "execution_count": null,
   "metadata": {},
   "outputs": [],
   "source": [
    "# Простой цикл while\n",
    "count = 5\n",
    "\n",
    "print(\"Цикл while:\")\n",
    "while count > 0:\n",
    "    print(f\"Осталось: {count}\")\n",
    "    count -= 1\n",
    "\n",
    "# Бесконечный цикл с break\n",
    "print(\"\\nЦикл while с break:\")\n",
    "number = 0\n",
    "while True:\n",
    "    print(number)\n",
    "    number += 1\n",
    "    if number >= 5:\n",
    "        break"
   ]
  },
  {
   "cell_type": "markdown",
   "metadata": {},
   "source": [
    "### 8.3 Операторы break и continue\n",
    "\n",
    "- `break` - прерывает выполнение цикла\n",
    "- `continue` - переходит к следующей итерации"
   ]
  },
  {
   "cell_type": "code",
   "execution_count": null,
   "metadata": {},
   "outputs": [],
   "source": [
    "# Демонстрация break и continue\n",
    "print(\"break и continue:\")\n",
    "\n",
    "for i in range(10):\n",
    "    if i == 3:\n",
    "        continue  # Пропустить 3\n",
    "    if i == 7:\n",
    "        break     # Выйти на 7\n",
    "    print(f\"i = {i}\")"
   ]
  },
  {
   "cell_type": "markdown",
   "metadata": {},
   "source": [
    "### 8.4 Оператор else в циклах\n",
    "\n",
    "Блок `else` выполняется после завершения цикла, если он не был прерван оператором `break`."
   ]
  },
  {
   "cell_type": "code",
   "execution_count": null,
   "metadata": {},
   "outputs": [],
   "source": [
    "# Демонстрация else в циклах\n",
    "print(\"Цикл for с else (без break):\")\n",
    "for i in range(3):\n",
    "    print(f\"i = {i}\")\n",
    "else:\n",
    "    print(\"Цикл завершен без break\")\n",
    "\n",
    "print(\"\\nЦикл for с else (с break):\")\n",
    "for i in range(5):\n",
    "    if i == 3:\n",
    "        print(\"Прерывание цикла\")\n",
    "        break\n",
    "    print(f\"i = {i}\")\n",
    "else:\n",
    "    print(\"Этот блок не выполнится из-за break\")\n",
    "\n",
    "print(\"\\nЦикл while с else:\")\n",
    "count = 3\n",
    "while count > 0:\n",
    "    print(f\"count = {count}\")\n",
    "    count -= 1\n",
    "else:\n",
    "    print(\"Цикл while завершен\")"
   ]
  },
  {
   "cell_type": "markdown",
   "metadata": {},
   "source": [
    "### Задачи для практики (циклы)"
   ]
  },
  {
   "cell_type": "markdown",
   "metadata": {},
   "source": [
    "**Задача 8.1:** Напишите программу, которая вычисляет факториал числа"
   ]
  },
  {
   "cell_type": "code",
   "execution_count": 49,
   "metadata": {},
   "outputs": [
    {
     "name": "stdin",
     "output_type": "stream",
     "text": [
      "Введите число: 5\n"
     ]
    },
    {
     "name": "stdout",
     "output_type": "stream",
     "text": [
      "Факториал 1! = 120\n"
     ]
    }
   ],
   "source": [
    "num = int(input(\"Введите число:\"))\n",
    "factorial = 1\n",
    "\n",
    "for i in range(1, num + 1):\n",
    "    factorial *= i\n",
    "\n",
    "print(f\"Факториал {n}! = {factorial}\")"
   ]
  },
  {
   "cell_type": "markdown",
   "metadata": {},
   "source": [
    "**Задача 8.2:** Создайте программу, которая выводит таблицу умножения"
   ]
  },
  {
   "cell_type": "code",
   "execution_count": 50,
   "metadata": {},
   "outputs": [
    {
     "name": "stdout",
     "output_type": "stream",
     "text": [
      "таблица умножения:\n",
      "1×1= 1  1×2= 2  1×3= 3  1×4= 4  1×5= 5  1×6= 6  1×7= 7  1×8= 8  1×9= 9  \n",
      "2×1= 2  2×2= 4  2×3= 6  2×4= 8  2×5=10  2×6=12  2×7=14  2×8=16  2×9=18  \n",
      "3×1= 3  3×2= 6  3×3= 9  3×4=12  3×5=15  3×6=18  3×7=21  3×8=24  3×9=27  \n",
      "4×1= 4  4×2= 8  4×3=12  4×4=16  4×5=20  4×6=24  4×7=28  4×8=32  4×9=36  \n",
      "5×1= 5  5×2=10  5×3=15  5×4=20  5×5=25  5×6=30  5×7=35  5×8=40  5×9=45  \n",
      "6×1= 6  6×2=12  6×3=18  6×4=24  6×5=30  6×6=36  6×7=42  6×8=48  6×9=54  \n",
      "7×1= 7  7×2=14  7×3=21  7×4=28  7×5=35  7×6=42  7×7=49  7×8=56  7×9=63  \n",
      "8×1= 8  8×2=16  8×3=24  8×4=32  8×5=40  8×6=48  8×7=56  8×8=64  8×9=72  \n",
      "9×1= 9  9×2=18  9×3=27  9×4=36  9×5=45  9×6=54  9×7=63  9×8=72  9×9=81  \n"
     ]
    }
   ],
   "source": [
    "print(\"таблица умножения:\")\n",
    "for i in range(1, 10):\n",
    "    for j in range(1, 10):\n",
    "        print(f\"{i}×{j}={i*j:2}\", end=\"  \")\n",
    "    print()"
   ]
  },
  {
   "cell_type": "markdown",
   "metadata": {},
   "source": [
    "**Задача 8.3:** Напишите программу, которая суммирует все числа от 1 до N"
   ]
  },
  {
   "cell_type": "code",
   "execution_count": 51,
   "metadata": {},
   "outputs": [
    {
     "name": "stdin",
     "output_type": "stream",
     "text": [
      "Введите число N:  66\n"
     ]
    },
    {
     "name": "stdout",
     "output_type": "stream",
     "text": [
      "Сумма чисел от 1 до 66 = 2211\n"
     ]
    }
   ],
   "source": [
    "n = int(input(\"Введите число N: \"))\n",
    "total = 0\n",
    "\n",
    "for i in range(1, n + 1):\n",
    "    total += i\n",
    "\n",
    "print(f\"Сумма чисел от 1 до {n} = {total}\")"
   ]
  },
  {
   "cell_type": "markdown",
   "metadata": {},
   "source": [
    "**Задача 8.4:** Создайте программу, которая находит все делители числа"
   ]
  },
  {
   "cell_type": "code",
   "execution_count": 52,
   "metadata": {},
   "outputs": [
    {
     "name": "stdin",
     "output_type": "stream",
     "text": [
      "Введите число:  2345\n"
     ]
    },
    {
     "name": "stdout",
     "output_type": "stream",
     "text": [
      "Делители числа 2345: [1, 5, 7, 35, 67, 335, 469, 2345]\n"
     ]
    }
   ],
   "source": [
    "n = int(input(\"Введите число: \"))\n",
    "divisors = []\n",
    "\n",
    "for i in range(1, n + 1):\n",
    "    if n % i == 0:\n",
    "        divisors.append(i)\n",
    "\n",
    "print(f\"Делители числа {n}: {divisors}\")"
   ]
  },
  {
   "cell_type": "markdown",
   "metadata": {},
   "source": [
    "**Задача 8.5:** Напишите программу, которая выводит числа Фибоначчи до N"
   ]
  },
  {
   "cell_type": "code",
   "execution_count": 53,
   "metadata": {},
   "outputs": [
    {
     "name": "stdin",
     "output_type": "stream",
     "text": [
      "Введите число N:  8\n"
     ]
    },
    {
     "name": "stdout",
     "output_type": "stream",
     "text": [
      "Первые 8 чисел Фибоначчи: [0, 1, 1, 2, 3, 5, 8, 13]\n"
     ]
    }
   ],
   "source": [
    "n = int(input(\"Введите число N: \"))\n",
    "fibonacci = [0, 1]\n",
    "\n",
    "for i in range(2, n):\n",
    "    next_fib = fibonacci[i-1] + fibonacci[i-2]\n",
    "    fibonacci.append(next_fib)\n",
    "\n",
    "print(f\"Первые {n} чисел Фибоначчи: {fibonacci}\")"
   ]
  },
  {
   "cell_type": "markdown",
   "metadata": {},
   "source": [
    "**Задача 8.6:** Создайте программу с циклом for и else, которая ищет простое число"
   ]
  },
  {
   "cell_type": "code",
   "execution_count": null,
   "metadata": {},
   "outputs": [],
   "source": [
    "start = int(input(\"Начало диапазона: \"))\n",
    "end = int(input(\"Конец диапазона: \"))\n",
    "\n",
    "print(f\"Простые числа от {start} до {end}:\")\n",
    "for num in range(start, end + 1):\n",
    "    if num < 2:\n",
    "        continue        \n",
    "    for i in range(2, int(num**0.5) + 1):\n",
    "        if num % i == 0:\n",
    "            break\n",
    "    else:\n",
    "        print(num, end=\" \")\n",
    "print()"
   ]
  },
  {
   "cell_type": "markdown",
   "metadata": {},
   "source": [
    "<a id=\"9\"></a>\n",
    "## 9. Comprehensions"
   ]
  },
  {
   "cell_type": "markdown",
   "metadata": {},
   "source": [
    "### 9.1 List comprehensions\n",
    "\n",
    "Компактный способ создания списков."
   ]
  },
  {
   "cell_type": "code",
   "execution_count": null,
   "metadata": {},
   "outputs": [],
   "source": [
    "# Простые list comprehensions\n",
    "squares = [x**2 for x in range(1, 6)]\n",
    "evens = [x for x in range(10) if x % 2 == 0]\n",
    "\n",
    "print(f\"Квадраты: {squares}\")\n",
    "print(f\"Четные: {evens}\")\n",
    "\n",
    "# List comprehensions с преобразованием\n",
    "words = [\"hello\", \"world\", \"python\"]\n",
    "upper_words = [word.upper() for word in words]\n",
    "lengths = [len(word) for word in words]\n",
    "\n",
    "print(f\"Заглавные: {upper_words}\")\n",
    "print(f\"Длины: {lengths}\")"
   ]
  },
  {
   "cell_type": "markdown",
   "metadata": {},
   "source": [
    "### 9.2 Dict comprehensions\n",
    "\n",
    "Компактный способ создания словарей."
   ]
  },
  {
   "cell_type": "code",
   "execution_count": null,
   "metadata": {},
   "outputs": [],
   "source": [
    "# Простые dict comprehensions\n",
    "square_dict = {x: x**2 for x in range(1, 6)}\n",
    "number_names = {1: \"one\", 2: \"two\", 3: \"three\"}\n",
    "inverted = {v: k for k, v in number_names.items()}\n",
    "\n",
    "print(f\"Квадраты: {square_dict}\")\n",
    "print(f\"Инвертированный: {inverted}\")\n",
    "\n",
    "# Dict comprehensions с условием\n",
    "even_squares = {x: x**2 for x in range(10) if x % 2 == 0}\n",
    "print(f\"Квадраты четных: {even_squares}\")"
   ]
  },
  {
   "cell_type": "markdown",
   "metadata": {},
   "source": [
    "### 9.3 Set comprehensions\n",
    "\n",
    "Компактный способ создания множеств."
   ]
  },
  {
   "cell_type": "code",
   "execution_count": null,
   "metadata": {},
   "outputs": [],
   "source": [
    "# Set comprehensions\n",
    "unique_squares = {x**2 for x in [1, 2, 2, 3, 3, 3, 4]}\n",
    "word_lengths = {len(word) for word in words}\n",
    "\n",
    "print(f\"Уникальные квадраты: {unique_squares}\")\n",
    "print(f\"Уникальные длины: {word_lengths}\")\n",
    "\n",
    "# Set comprehensions с условием\n",
    "odd_squares = {x**2 for x in range(10) if x % 2 == 1}\n",
    "print(f\"Квадраты нечетных: {odd_squares}\")"
   ]
  },
  {
   "cell_type": "markdown",
   "metadata": {},
   "source": [
    "### 9.4 Сравнение производительности\n",
    "\n",
    "Comprehensions обычно работают быстрее, чем эквивалентные циклы for."
   ]
  },
  {
   "cell_type": "code",
   "execution_count": null,
   "metadata": {},
   "outputs": [],
   "source": [
    "import timeit\n",
    "\n",
    "# Сравнение list comprehension и цикла for\n",
    "setup_code = \"\"\"\n",
    "n = 1000\n",
    "\"\"\"\n",
    "\n",
    "comprehension_code = \"\"\"\n",
    "result = [x**2 for x in range(n)]\n",
    "\"\"\"\n",
    "\n",
    "for_loop_code = \"\"\"\n",
    "result = []\n",
    "for x in range(n):\n",
    "    result.append(x**2)\n",
    "\"\"\"\n",
    "\n",
    "time_comprehension = timeit.timeit(comprehension_code, setup=setup_code, number=1000)\n",
    "time_for_loop = timeit.timeit(for_loop_code, setup=setup_code, number=1000)\n",
    "\n",
    "print(f\"Время выполнения list comprehension: {time_comprehension:.4f} секунд\")\n",
    "print(f\"Время выполнения цикла for: {time_for_loop:.4f} секунд\")\n",
    "print(f\"Comprehension быстрее в {time_for_loop/time_comprehension:.2f} раз\")"
   ]
  },
  {
   "cell_type": "markdown",
   "metadata": {},
   "source": [
    "### 9.5 Вложенные comprehensions\n",
    "\n",
    "Comprehensions могут быть вложенными для создания сложных структур."
   ]
  },
  {
   "cell_type": "code",
   "execution_count": null,
   "metadata": {},
   "outputs": [],
   "source": [
    "# Вложенные list comprehensions\n",
    "matrix = [[1, 2, 3], [4, 5, 6], [7, 8, 9]]\n",
    "\n",
    "# Транспонирование матрицы\n",
    "transposed = [[row[i] for row in matrix] for i in range(len(matrix[0]))]\n",
    "print(f\"Исходная матрица: {matrix}\")\n",
    "print(f\"Транспонированная: {transposed}\")\n",
    "\n",
    "# Создание таблицы умножения\n",
    "multiplication_table = [[i * j for j in range(1, 6)] for i in range(1, 6)]\n",
    "print(f\"\\nТаблица умножения 5x5:\")\n",
    "for row in multiplication_table:\n",
    "    print(row)"
   ]
  },
  {
   "cell_type": "markdown",
   "metadata": {},
   "source": [
    "### Задачи для практики (comprehensions)"
   ]
  },
  {
   "cell_type": "markdown",
   "metadata": {},
   "source": [
    "**Задача 9.1:** Создайте список квадратов чисел от 1 до 10"
   ]
  },
  {
   "cell_type": "code",
   "execution_count": 24,
   "metadata": {},
   "outputs": [
    {
     "name": "stdout",
     "output_type": "stream",
     "text": [
      "Квадраты: [1, 4, 9, 16, 25, 36, 49, 64, 81, 100]\n"
     ]
    }
   ],
   "source": [
    "squares = [x**2 for x in range(1, 11)]\n",
    "\n",
    "print(f\"Квадраты: {squares}\")"
   ]
  },
  {
   "cell_type": "markdown",
   "metadata": {},
   "source": [
    "**Задача 9.2:** Создайте словарь, где ключи - числа, а значения - их строковые представления"
   ]
  },
  {
   "cell_type": "code",
   "execution_count": 26,
   "metadata": {},
   "outputs": [
    {
     "name": "stdout",
     "output_type": "stream",
     "text": [
      "Инвертированный: {10: 'ten', 2: 'sem', 3: 'nol'}\n"
     ]
    }
   ],
   "source": [
    "number_names = {10: \"ten\", 2: \"sem\", 3: \"nol\"}\n",
    "\n",
    "print(f\"Инвертированный: {number_names}\")"
   ]
  },
  {
   "cell_type": "markdown",
   "metadata": {},
   "source": [
    "**Задача 9.3:** Создайте множество уникальных символов из строки"
   ]
  },
  {
   "cell_type": "code",
   "execution_count": 27,
   "metadata": {},
   "outputs": [
    {
     "name": "stdout",
     "output_type": "stream",
     "text": [
      "Исходная строка: 'privet mir ffka'\n",
      "Уникальные символы: {'p', 't', 'r', 'e', 'v', ' ', 'a', 'i', 'k', 'f', 'm'}\n"
     ]
    }
   ],
   "source": [
    "text = \"privet mir ffka\"\n",
    "chars = {char for char in text}\n",
    "\n",
    "print(f\"Исходная строка: '{text}'\")\n",
    "print(f\"Уникальные символы: {chars}\")"
   ]
  },
  {
   "cell_type": "markdown",
   "metadata": {},
   "source": [
    "Задача 9.4: Создайте список только четных чисел из исходного списка"
   ]
  },
  {
   "cell_type": "code",
   "execution_count": 28,
   "metadata": {},
   "outputs": [
    {
     "name": "stdout",
     "output_type": "stream",
     "text": [
      "Исходный список: [1, 2, 8, 34, 33, 64, 0, 67, 99999, 3, 4, 10]\n",
      "Четные числа: [2, 8, 34, 64, 0, 4, 10]\n"
     ]
    }
   ],
   "source": [
    "numbers = [1, 2, 8, 34 ,33, 64, 0, 67, 99999, 3, 4, 10]\n",
    "numb = [num for num in numbers if num % 2 == 0]\n",
    "\n",
    "print(f\"Исходный список: {numbers}\")\n",
    "print(f\"Четные числа: {numb}\")"
   ]
  },
  {
   "cell_type": "markdown",
   "metadata": {},
   "source": [
    "**Задача 9.5:** Создайте словарь с длинами слов из списка"
   ]
  },
  {
   "cell_type": "code",
   "execution_count": 29,
   "metadata": {},
   "outputs": [
    {
     "name": "stdout",
     "output_type": "stream",
     "text": [
      "Список слов: ['magnit', 'band', 'tac', 'dictator', 'pypypy']\n",
      "Длины слов: {'magnit': 6, 'band': 4, 'tac': 3, 'dictator': 8, 'pypypy': 6}\n"
     ]
    }
   ],
   "source": [
    "words = [\"magnit\", \"band\", \"tac\", \"dictator\", \"pypypy\"]\n",
    "leng = {word: len(word) for word in words}\n",
    "\n",
    "print(f\"Список слов: {words}\")\n",
    "print(f\"Длины слов: {leng}\")"
   ]
  },
  {
   "cell_type": "markdown",
   "metadata": {},
   "source": [
    "**Задача 9.6:** Создайте вложенный comprehension для матрицы 3x3 с нулями на диагонали и единицами в остальных ячейках"
   ]
  },
  {
   "cell_type": "code",
   "execution_count": 30,
   "metadata": {},
   "outputs": [
    {
     "name": "stdout",
     "output_type": "stream",
     "text": [
      "Матрица 3x3:\n",
      "[0, 1, 1]\n",
      "[1, 0, 1]\n",
      "[1, 1, 0]\n"
     ]
    }
   ],
   "source": [
    "matr = [[0 if i == j else 1 for j in range(3)] for i in range(3)]\n",
    "\n",
    "print(\"Матрица 3x3:\")\n",
    "for row in matr:\n",
    "    print(row)"
   ]
  },
  {
   "cell_type": "markdown",
   "metadata": {},
   "source": [
    "## Итоговые практические задания"
   ]
  },
  {
   "cell_type": "markdown",
   "metadata": {},
   "source": [
    "### Задание 10: Анализ текста (только базовые типы)\n",
    "Напишите программу, которая:\n",
    "1. Принимает строку\n",
    "2. Подсчитывает количество символов\n",
    "3. Подсчитывает количество слов\n",
    "4. Выводит строку в верхнем регистре"
   ]
  },
  {
   "cell_type": "code",
   "execution_count": 31,
   "metadata": {},
   "outputs": [
    {
     "name": "stdin",
     "output_type": "stream",
     "text": [
      "Введите строку:  мех съел барсука, а кошка подавилась воздухом\n"
     ]
    },
    {
     "name": "stdout",
     "output_type": "stream",
     "text": [
      "Количество символов: 45\n",
      "Количество слов: 7\n",
      "Строка в верхнем регистре: МЕХ СЪЕЛ БАРСУКА, А КОШКА ПОДАВИЛАСЬ ВОЗДУХОМ\n"
     ]
    }
   ],
   "source": [
    "strin = input(\"Введите строку: \")\n",
    "charcount = len(strin)\n",
    "wordcount = len(strin.split())\n",
    "uppertext = strin.upper()\n",
    "print(f\"Количество символов: {charcount}\")\n",
    "print(f\"Количество слов: {wordcount}\")\n",
    "print(f\"Строка в верхнем регистре: {uppertext}\")"
   ]
  },
  {
   "cell_type": "markdown",
   "metadata": {},
   "source": [
    "### Задание 11: Управление студентами (только базовые типы)\n",
    "Создайте программу для учета студентов:\n",
    "1. Используйте словарь для хранения студентов (ключ - имя, значение - возраст)\n",
    "2. Реализуйте добавление нового студента\n",
    "3. Реализуйте вывод всех студентов\n",
    "4. Реализуйте поиск студента по имени"
   ]
  },
  {
   "cell_type": "code",
   "execution_count": 39,
   "metadata": {},
   "outputs": [
    {
     "name": "stdout",
     "output_type": "stream",
     "text": [
      "\n",
      " УПРАВЛЕНИЕ СТУДЕНТАМИ\n",
      "========================================\n",
      "1. Добавить студента\n",
      "2. Показать всех студентов\n",
      "3. Найти студента по имени\n",
      "0. Выйти\n"
     ]
    },
    {
     "name": "stderr",
     "output_type": "stream",
     "text": [
      "sh: 1: cls: not found\n"
     ]
    },
    {
     "name": "stdin",
     "output_type": "stream",
     "text": [
      "Выберите действие (0-3):  0\n"
     ]
    },
    {
     "name": "stdout",
     "output_type": "stream",
     "text": [
      "Программа завершена\n"
     ]
    }
   ],
   "source": [
    "\n",
    "students = {}\n",
    "def add_student():\n",
    "    \"\"\"Добавление нового студента\"\"\"\n",
    "    name = input(\"Введите имя студента: \")\n",
    "    age = int(input(\"Введите возраст студента: \"))\n",
    "    students[name] = age\n",
    "    print(f\"Студент {name} добавлен!\")\n",
    "\n",
    "def show_all_students():\n",
    "    \"\"\"Вывод всех студентов\"\"\"\n",
    "    if not students:\n",
    "        print(\"Список студентов пуст!\")\n",
    "        return\n",
    "    \n",
    "    print(\"\\nСписок всех студентов:\")\n",
    "    for name, age in students.items():\n",
    "        print(f\"Имя: {name}, Возраст: {age}\")\n",
    "\n",
    "def find_student():\n",
    "    \"\"\"Поиск студента по имени\"\"\"\n",
    "    name = input(\"Введите имя для поиска: \")\n",
    "    if name in students:\n",
    "        print(f\"Найден студент: {name}, Возраст: {students[name]}\")\n",
    "    else:\n",
    "        print(f\"Студент с именем '{name}' не найден!\")\n",
    "\n",
    "def main():\n",
    "    while True:\n",
    "        print(\"\\n УПРАВЛЕНИЕ СТУДЕНТАМИ\")\n",
    "        print(\"=\" * 40)\n",
    "        print(\"1. Добавить студента\")\n",
    "        print(\"2. Показать всех студентов\")\n",
    "        print(\"3. Найти студента по имени\")\n",
    "        print(\"0. Выйти\")        \n",
    "        choice = input(\"Выберите действие (0-3): \")        \n",
    "        if choice == '1':\n",
    "            add_student()\n",
    "        elif choice == '2':\n",
    "            show_all_students()\n",
    "        elif choice == '3':\n",
    "            find_student()\n",
    "        elif choice == '0':\n",
    "            print(\"Программа завершена\")\n",
    "            break\n",
    "        else:\n",
    "            print(\"Неверный выбор! Попробуйте снова.\")\n",
    "\n",
    "if __name__ == \"__main__\":\n",
    "    main()"
   ]
  },
  {
   "cell_type": "markdown",
   "metadata": {},
   "source": [
    "Результат выполнения всех заданий (notebook в формате .ipynb) сохранить в папке LAB05 репозитория SL_LABS. Сохранить изменения локально и отправить изменения в удаленный репозиторий"
   ]
  }
 ],
 "metadata": {
  "kernelspec": {
   "display_name": "Python 3 (ipykernel)",
   "language": "python",
   "name": "python3"
  },
  "language_info": {
   "codemirror_mode": {
    "name": "ipython",
    "version": 3
   },
   "file_extension": ".py",
   "mimetype": "text/x-python",
   "name": "python",
   "nbconvert_exporter": "python",
   "pygments_lexer": "ipython3",
   "version": "3.12.3"
  }
 },
 "nbformat": 4,
 "nbformat_minor": 4
}
